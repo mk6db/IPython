{
 "cells": [
  {
   "cell_type": "code",
   "execution_count": 1,
   "metadata": {
    "collapsed": false
   },
   "outputs": [],
   "source": [
    "import tweepy # twitter API wrapper\n",
    "import nltk # classic NLP package"
   ]
  },
  {
   "cell_type": "code",
   "execution_count": 4,
   "metadata": {
    "collapsed": false
   },
   "outputs": [
    {
     "name": "stdout",
     "output_type": "stream",
     "text": [
      "Status(contributors=None, truncated=False, text=u'Description - How Much Did It Rain?- http://t.co/8bFOYZxG2u #datascience #analytics #science', is_quote_status=False, in_reply_to_status_id=None, id=648671131981885440L, favorite_count=0, _api=<tweepy.api.API object at 0x000000001C3B1A20>, author=User(follow_request_sent=None, has_extended_profile=False, profile_use_background_image=True, _json={u'follow_request_sent': None, u'has_extended_profile': False, u'profile_use_background_image': True, u'default_profile_image': False, u'id': 2358641342L, u'profile_background_image_url_https': u'https://pbs.twimg.com/profile_background_images/637050282048749568/XNKLUq6b.png', u'verified': False, u'profile_text_color': u'000000', u'profile_image_url_https': u'https://pbs.twimg.com/profile_images/642571090930208768/DRW-GBZu_normal.jpg', u'profile_sidebar_fill_color': u'000000', u'entities': {u'description': {u'urls': []}}, u'followers_count': 63, u'profile_sidebar_border_color': u'000000', u'id_str': u'2358641342', u'profile_background_color': u'000000', u'listed_count': 53, u'is_translation_enabled': False, u'utc_offset': -25200, u'statuses_count': 307, u'description': u'', u'friends_count': 71, u'location': u'San Francisco', u'profile_link_color': u'4A913C', u'profile_image_url': u'http://pbs.twimg.com/profile_images/642571090930208768/DRW-GBZu_normal.jpg', u'following': None, u'geo_enabled': True, u'profile_banner_url': u'https://pbs.twimg.com/profile_banners/2358641342/1440719797', u'profile_background_image_url': u'http://pbs.twimg.com/profile_background_images/637050282048749568/XNKLUq6b.png', u'screen_name': u'bbkrup', u'lang': u'en', u'profile_background_tile': False, u'favourites_count': 26, u'name': u'Biju Kurup', u'notifications': None, u'url': None, u'created_at': u'Sun Feb 23 23:29:09 +0000 2014', u'contributors_enabled': False, u'time_zone': u'Pacific Time (US & Canada)', u'protected': False, u'default_profile': False, u'is_translator': False}, time_zone=u'Pacific Time (US & Canada)', id=2358641342L, _api=<tweepy.api.API object at 0x000000001C3B1A20>, verified=False, profile_text_color=u'000000', profile_image_url_https=u'https://pbs.twimg.com/profile_images/642571090930208768/DRW-GBZu_normal.jpg', profile_sidebar_fill_color=u'000000', is_translator=False, geo_enabled=True, entities={u'description': {u'urls': []}}, followers_count=63, protected=False, id_str=u'2358641342', default_profile_image=False, listed_count=53, lang=u'en', utc_offset=-25200, statuses_count=307, description=u'', friends_count=71, profile_link_color=u'4A913C', profile_image_url=u'http://pbs.twimg.com/profile_images/642571090930208768/DRW-GBZu_normal.jpg', notifications=None, profile_background_image_url_https=u'https://pbs.twimg.com/profile_background_images/637050282048749568/XNKLUq6b.png', profile_background_color=u'000000', profile_banner_url=u'https://pbs.twimg.com/profile_banners/2358641342/1440719797', profile_background_image_url=u'http://pbs.twimg.com/profile_background_images/637050282048749568/XNKLUq6b.png', name=u'Biju Kurup', is_translation_enabled=False, profile_background_tile=False, favourites_count=26, screen_name=u'bbkrup', url=None, created_at=datetime.datetime(2014, 2, 23, 23, 29, 9), contributors_enabled=False, location=u'San Francisco', profile_sidebar_border_color=u'000000', default_profile=False, following=False), _json={u'contributors': None, u'truncated': False, u'text': u'Description - How Much Did It Rain?- http://t.co/8bFOYZxG2u #datascience #analytics #science', u'is_quote_status': False, u'in_reply_to_status_id': None, u'id': 648671131981885440L, u'favorite_count': 0, u'source': u'<a href=\"http://twitter.com\" rel=\"nofollow\">Twitter Web Client</a>', u'retweeted': False, u'coordinates': None, u'entities': {u'symbols': [], u'user_mentions': [], u'hashtags': [{u'indices': [60, 72], u'text': u'datascience'}, {u'indices': [73, 83], u'text': u'analytics'}, {u'indices': [84, 92], u'text': u'science'}], u'urls': [{u'url': u'http://t.co/8bFOYZxG2u', u'indices': [37, 59], u'expanded_url': u'http://klou.tt/2vh8mgmkab21', u'display_url': u'klou.tt/2vh8mgmkab21'}]}, u'in_reply_to_screen_name': None, u'in_reply_to_user_id': None, u'retweet_count': 0, u'id_str': u'648671131981885440', u'favorited': False, u'user': {u'follow_request_sent': None, u'has_extended_profile': False, u'profile_use_background_image': True, u'default_profile_image': False, u'id': 2358641342L, u'profile_background_image_url_https': u'https://pbs.twimg.com/profile_background_images/637050282048749568/XNKLUq6b.png', u'verified': False, u'profile_text_color': u'000000', u'profile_image_url_https': u'https://pbs.twimg.com/profile_images/642571090930208768/DRW-GBZu_normal.jpg', u'profile_sidebar_fill_color': u'000000', u'entities': {u'description': {u'urls': []}}, u'followers_count': 63, u'profile_sidebar_border_color': u'000000', u'id_str': u'2358641342', u'profile_background_color': u'000000', u'listed_count': 53, u'is_translation_enabled': False, u'utc_offset': -25200, u'statuses_count': 307, u'description': u'', u'friends_count': 71, u'location': u'San Francisco', u'profile_link_color': u'4A913C', u'profile_image_url': u'http://pbs.twimg.com/profile_images/642571090930208768/DRW-GBZu_normal.jpg', u'following': None, u'geo_enabled': True, u'profile_banner_url': u'https://pbs.twimg.com/profile_banners/2358641342/1440719797', u'profile_background_image_url': u'http://pbs.twimg.com/profile_background_images/637050282048749568/XNKLUq6b.png', u'screen_name': u'bbkrup', u'lang': u'en', u'profile_background_tile': False, u'favourites_count': 26, u'name': u'Biju Kurup', u'notifications': None, u'url': None, u'created_at': u'Sun Feb 23 23:29:09 +0000 2014', u'contributors_enabled': False, u'time_zone': u'Pacific Time (US & Canada)', u'protected': False, u'default_profile': False, u'is_translator': False}, u'geo': None, u'in_reply_to_user_id_str': None, u'possibly_sensitive': False, u'lang': u'en', u'created_at': u'Tue Sep 29 01:30:24 +0000 2015', u'in_reply_to_status_id_str': None, u'place': None, u'metadata': {u'iso_language_code': u'en', u'result_type': u'recent'}}, coordinates=None, entities={u'symbols': [], u'user_mentions': [], u'hashtags': [{u'indices': [60, 72], u'text': u'datascience'}, {u'indices': [73, 83], u'text': u'analytics'}, {u'indices': [84, 92], u'text': u'science'}], u'urls': [{u'url': u'http://t.co/8bFOYZxG2u', u'indices': [37, 59], u'expanded_url': u'http://klou.tt/2vh8mgmkab21', u'display_url': u'klou.tt/2vh8mgmkab21'}]}, in_reply_to_screen_name=None, id_str=u'648671131981885440', retweet_count=0, in_reply_to_user_id=None, favorited=False, source_url=u'http://twitter.com', user=User(follow_request_sent=None, has_extended_profile=False, profile_use_background_image=True, _json={u'follow_request_sent': None, u'has_extended_profile': False, u'profile_use_background_image': True, u'default_profile_image': False, u'id': 2358641342L, u'profile_background_image_url_https': u'https://pbs.twimg.com/profile_background_images/637050282048749568/XNKLUq6b.png', u'verified': False, u'profile_text_color': u'000000', u'profile_image_url_https': u'https://pbs.twimg.com/profile_images/642571090930208768/DRW-GBZu_normal.jpg', u'profile_sidebar_fill_color': u'000000', u'entities': {u'description': {u'urls': []}}, u'followers_count': 63, u'profile_sidebar_border_color': u'000000', u'id_str': u'2358641342', u'profile_background_color': u'000000', u'listed_count': 53, u'is_translation_enabled': False, u'utc_offset': -25200, u'statuses_count': 307, u'description': u'', u'friends_count': 71, u'location': u'San Francisco', u'profile_link_color': u'4A913C', u'profile_image_url': u'http://pbs.twimg.com/profile_images/642571090930208768/DRW-GBZu_normal.jpg', u'following': None, u'geo_enabled': True, u'profile_banner_url': u'https://pbs.twimg.com/profile_banners/2358641342/1440719797', u'profile_background_image_url': u'http://pbs.twimg.com/profile_background_images/637050282048749568/XNKLUq6b.png', u'screen_name': u'bbkrup', u'lang': u'en', u'profile_background_tile': False, u'favourites_count': 26, u'name': u'Biju Kurup', u'notifications': None, u'url': None, u'created_at': u'Sun Feb 23 23:29:09 +0000 2014', u'contributors_enabled': False, u'time_zone': u'Pacific Time (US & Canada)', u'protected': False, u'default_profile': False, u'is_translator': False}, time_zone=u'Pacific Time (US & Canada)', id=2358641342L, _api=<tweepy.api.API object at 0x000000001C3B1A20>, verified=False, profile_text_color=u'000000', profile_image_url_https=u'https://pbs.twimg.com/profile_images/642571090930208768/DRW-GBZu_normal.jpg', profile_sidebar_fill_color=u'000000', is_translator=False, geo_enabled=True, entities={u'description': {u'urls': []}}, followers_count=63, protected=False, id_str=u'2358641342', default_profile_image=False, listed_count=53, lang=u'en', utc_offset=-25200, statuses_count=307, description=u'', friends_count=71, profile_link_color=u'4A913C', profile_image_url=u'http://pbs.twimg.com/profile_images/642571090930208768/DRW-GBZu_normal.jpg', notifications=None, profile_background_image_url_https=u'https://pbs.twimg.com/profile_background_images/637050282048749568/XNKLUq6b.png', profile_background_color=u'000000', profile_banner_url=u'https://pbs.twimg.com/profile_banners/2358641342/1440719797', profile_background_image_url=u'http://pbs.twimg.com/profile_background_images/637050282048749568/XNKLUq6b.png', name=u'Biju Kurup', is_translation_enabled=False, profile_background_tile=False, favourites_count=26, screen_name=u'bbkrup', url=None, created_at=datetime.datetime(2014, 2, 23, 23, 29, 9), contributors_enabled=False, location=u'San Francisco', profile_sidebar_border_color=u'000000', default_profile=False, following=False), geo=None, in_reply_to_user_id_str=None, possibly_sensitive=False, lang=u'en', created_at=datetime.datetime(2015, 9, 29, 1, 30, 24), in_reply_to_status_id_str=None, place=None, source=u'Twitter Web Client', retweeted=False, metadata={u'iso_language_code': u'en', u'result_type': u'recent'})\n"
     ]
    }
   ],
   "source": [
    "#Variables that contains the user credentials to access Twitter API \n",
    "consumer_key = \"F3WSAIHId83ufGdq1vVJn0f2N\" # Replace with your own consumer_key\n",
    "consumer_secret = \"GZGJC9uZIPEb2wB5oWacu9VVUvn3uHE2Rp9PMzFz6gxqUmot74\" # Replace with your own consumer_secret\n",
    "\n",
    "# Create authorization for API\n",
    "auth = tweepy.auth.OAuthHandler(consumer_key, consumer_secret)\n",
    "#auth.set_access_token(access_token, access_token_secret)\n",
    "\n",
    "# Initialize API object by passing it your credentials\n",
    "api = tweepy.API(auth)\n",
    "\n",
    "# Use the api to search\n",
    "tweets = api.search(q=\"kaggle\", count=10, result_type=\"recent\")\n",
    "print tweets[0]"
   ]
  },
  {
   "cell_type": "code",
   "execution_count": 5,
   "metadata": {
    "collapsed": false
   },
   "outputs": [
    {
     "data": {
      "text/plain": [
       "u'Description - How Much Did It Rain?- http://t.co/8bFOYZxG2u #datascience #analytics #science'"
      ]
     },
     "execution_count": 5,
     "metadata": {},
     "output_type": "execute_result"
    }
   ],
   "source": [
    "tweets[0].text"
   ]
  },
  {
   "cell_type": "code",
   "execution_count": 6,
   "metadata": {
    "collapsed": false
   },
   "outputs": [
    {
     "name": "stdout",
     "output_type": "stream",
     "text": [
      "Description - How Much Did It Rain?- http://t.co/8bFOYZxG2u #datascience #analytics #science\n"
     ]
    }
   ],
   "source": [
    "tweets_text = []\n",
    "for tweet in tweepy.Cursor(api.search, q='kaggle', result_type='recent').items(1000):\n",
    "    tweets_text.append(tweet.text.encode('ascii','ignore'))\n",
    "print tweets_text[0]"
   ]
  },
  {
   "cell_type": "code",
   "execution_count": 7,
   "metadata": {
    "collapsed": true
   },
   "outputs": [],
   "source": [
    "import os"
   ]
  },
  {
   "cell_type": "code",
   "execution_count": 10,
   "metadata": {
    "collapsed": false
   },
   "outputs": [
    {
     "data": {
      "text/plain": [
       "'C:\\\\home'"
      ]
     },
     "execution_count": 10,
     "metadata": {},
     "output_type": "execute_result"
    }
   ],
   "source": [
    "os.getcwd()\n"
   ]
  },
  {
   "cell_type": "code",
   "execution_count": 13,
   "metadata": {
    "collapsed": false
   },
   "outputs": [],
   "source": [
    "# Running this will overwrite the current data.\n",
    "with open('C:/Users/Michael/projects/kaggle_tweets.csv','w') as f:\n",
    "    for tweet in tweets_text:\n",
    "        f.write('\"%s\"\\n' % tweet)"
   ]
  },
  {
   "cell_type": "code",
   "execution_count": 15,
   "metadata": {
    "collapsed": false
   },
   "outputs": [],
   "source": [
    "with open('C:/Users/Michael/projects/kaggle_tweets.csv','r') as f:\n",
    "    tweets_text = [tweet.replace('\\n','').replace('\"','') for tweet in f.readlines()]"
   ]
  },
  {
   "cell_type": "code",
   "execution_count": 16,
   "metadata": {
    "collapsed": false
   },
   "outputs": [
    {
     "data": {
      "text/plain": [
       "'Description - How Much Did It Rain?- http://t.co/8bFOYZxG2u #datascience #analytics #science'"
      ]
     },
     "execution_count": 16,
     "metadata": {},
     "output_type": "execute_result"
    }
   ],
   "source": [
    "tweets_text[0]"
   ]
  },
  {
   "cell_type": "code",
   "execution_count": 19,
   "metadata": {
    "collapsed": false
   },
   "outputs": [
    {
     "data": {
      "text/plain": [
       "u'Data Science is an interdisciplinary field about processes and systems to extract knowledge or insights from large volumes of data in various forms, either structured or unstructured,[1][2] which is a continuation of some of the data analysis fields such as data mining and predictive analytics, as well as as Knowledge Discovery in Databases (KDD).   Data science employs techniques and theories drawn from many fields within the broad areas of mathematics, statistics, chemometrics, information sci'"
      ]
     },
     "execution_count": 19,
     "metadata": {},
     "output_type": "execute_result"
    }
   ],
   "source": [
    "# Imports\n",
    "import requests\n",
    "from bs4 import BeautifulSoup\n",
    "\n",
    "# Get Data Science Wiki page\n",
    "r = requests.get(\"http://en.wikipedia.org/wiki/Data_science\")\n",
    "b = BeautifulSoup(r.text)\n",
    "paragraphs = b.find(\"body\").findAll(\"p\")\n",
    "paragraphs_text = [p.text for p in paragraphs]\n",
    "text = \"\"\n",
    "for paragraph in paragraphs:\n",
    "    text += paragraph.text + \" \"\n",
    "\n",
    "# Data Science corpus\n",
    "text[:500]"
   ]
  },
  {
   "cell_type": "code",
   "execution_count": 20,
   "metadata": {
    "collapsed": false
   },
   "outputs": [
    {
     "ename": "LookupError",
     "evalue": "\n**********************************************************************\n  Resource u'tokenizers/punkt/english.pickle' not found.  Please\n  use the NLTK Downloader to obtain the resource:  >>>\n  nltk.download()\n  Searched in:\n    - 'C:\\\\home/nltk_data'\n    - 'C:\\\\nltk_data'\n    - 'D:\\\\nltk_data'\n    - 'E:\\\\nltk_data'\n    - 'C:\\\\Users\\\\Michael\\\\Anaconda\\\\nltk_data'\n    - 'C:\\\\Users\\\\Michael\\\\Anaconda\\\\lib\\\\nltk_data'\n    - 'C:\\\\Users\\\\Michael\\\\AppData\\\\Roaming\\\\nltk_data'\n    - u''\n**********************************************************************",
     "output_type": "error",
     "traceback": [
      "\u001b[1;31m---------------------------------------------------------------------------\u001b[0m",
      "\u001b[1;31mLookupError\u001b[0m                               Traceback (most recent call last)",
      "\u001b[1;32m<ipython-input-20-1dfe002ab953>\u001b[0m in \u001b[0;36m<module>\u001b[1;34m()\u001b[0m\n\u001b[0;32m      1\u001b[0m \u001b[1;31m# tokenize into sentences\u001b[0m\u001b[1;33m\u001b[0m\u001b[1;33m\u001b[0m\u001b[0m\n\u001b[1;32m----> 2\u001b[1;33m \u001b[0msentences\u001b[0m \u001b[1;33m=\u001b[0m \u001b[1;33m[\u001b[0m\u001b[0msent\u001b[0m \u001b[1;32mfor\u001b[0m \u001b[0msent\u001b[0m \u001b[1;32min\u001b[0m \u001b[0mnltk\u001b[0m\u001b[1;33m.\u001b[0m\u001b[0msent_tokenize\u001b[0m\u001b[1;33m(\u001b[0m\u001b[0mtext\u001b[0m\u001b[1;33m)\u001b[0m\u001b[1;33m]\u001b[0m\u001b[1;33m\u001b[0m\u001b[0m\n\u001b[0m\u001b[0;32m      3\u001b[0m \u001b[0msentences\u001b[0m\u001b[1;33m[\u001b[0m\u001b[1;36m0\u001b[0m\u001b[1;33m]\u001b[0m\u001b[1;33m\u001b[0m\u001b[0m\n",
      "\u001b[1;32mC:\\Users\\Michael\\Anaconda\\lib\\site-packages\\nltk\\tokenize\\__init__.pyc\u001b[0m in \u001b[0;36msent_tokenize\u001b[1;34m(text, language)\u001b[0m\n\u001b[0;32m     83\u001b[0m     \u001b[1;33m:\u001b[0m\u001b[0mparam\u001b[0m \u001b[0mlanguage\u001b[0m\u001b[1;33m:\u001b[0m \u001b[0mthe\u001b[0m \u001b[0mmodel\u001b[0m \u001b[0mname\u001b[0m \u001b[1;32min\u001b[0m \u001b[0mthe\u001b[0m \u001b[0mPunkt\u001b[0m \u001b[0mcorpus\u001b[0m\u001b[1;33m\u001b[0m\u001b[0m\n\u001b[0;32m     84\u001b[0m     \"\"\"\n\u001b[1;32m---> 85\u001b[1;33m     \u001b[0mtokenizer\u001b[0m \u001b[1;33m=\u001b[0m \u001b[0mload\u001b[0m\u001b[1;33m(\u001b[0m\u001b[1;34m'tokenizers/punkt/{0}.pickle'\u001b[0m\u001b[1;33m.\u001b[0m\u001b[0mformat\u001b[0m\u001b[1;33m(\u001b[0m\u001b[0mlanguage\u001b[0m\u001b[1;33m)\u001b[0m\u001b[1;33m)\u001b[0m\u001b[1;33m\u001b[0m\u001b[0m\n\u001b[0m\u001b[0;32m     86\u001b[0m     \u001b[1;32mreturn\u001b[0m \u001b[0mtokenizer\u001b[0m\u001b[1;33m.\u001b[0m\u001b[0mtokenize\u001b[0m\u001b[1;33m(\u001b[0m\u001b[0mtext\u001b[0m\u001b[1;33m)\u001b[0m\u001b[1;33m\u001b[0m\u001b[0m\n\u001b[0;32m     87\u001b[0m \u001b[1;33m\u001b[0m\u001b[0m\n",
      "\u001b[1;32mC:\\Users\\Michael\\Anaconda\\lib\\site-packages\\nltk\\data.pyc\u001b[0m in \u001b[0;36mload\u001b[1;34m(resource_url, format, cache, verbose, logic_parser, fstruct_reader, encoding)\u001b[0m\n\u001b[0;32m    779\u001b[0m \u001b[1;33m\u001b[0m\u001b[0m\n\u001b[0;32m    780\u001b[0m     \u001b[1;31m# Load the resource.\u001b[0m\u001b[1;33m\u001b[0m\u001b[1;33m\u001b[0m\u001b[0m\n\u001b[1;32m--> 781\u001b[1;33m     \u001b[0mopened_resource\u001b[0m \u001b[1;33m=\u001b[0m \u001b[0m_open\u001b[0m\u001b[1;33m(\u001b[0m\u001b[0mresource_url\u001b[0m\u001b[1;33m)\u001b[0m\u001b[1;33m\u001b[0m\u001b[0m\n\u001b[0m\u001b[0;32m    782\u001b[0m \u001b[1;33m\u001b[0m\u001b[0m\n\u001b[0;32m    783\u001b[0m     \u001b[1;32mif\u001b[0m \u001b[0mformat\u001b[0m \u001b[1;33m==\u001b[0m \u001b[1;34m'raw'\u001b[0m\u001b[1;33m:\u001b[0m\u001b[1;33m\u001b[0m\u001b[0m\n",
      "\u001b[1;32mC:\\Users\\Michael\\Anaconda\\lib\\site-packages\\nltk\\data.pyc\u001b[0m in \u001b[0;36m_open\u001b[1;34m(resource_url)\u001b[0m\n\u001b[0;32m    893\u001b[0m \u001b[1;33m\u001b[0m\u001b[0m\n\u001b[0;32m    894\u001b[0m     \u001b[1;32mif\u001b[0m \u001b[0mprotocol\u001b[0m \u001b[1;32mis\u001b[0m \u001b[0mNone\u001b[0m \u001b[1;32mor\u001b[0m \u001b[0mprotocol\u001b[0m\u001b[1;33m.\u001b[0m\u001b[0mlower\u001b[0m\u001b[1;33m(\u001b[0m\u001b[1;33m)\u001b[0m \u001b[1;33m==\u001b[0m \u001b[1;34m'nltk'\u001b[0m\u001b[1;33m:\u001b[0m\u001b[1;33m\u001b[0m\u001b[0m\n\u001b[1;32m--> 895\u001b[1;33m         \u001b[1;32mreturn\u001b[0m \u001b[0mfind\u001b[0m\u001b[1;33m(\u001b[0m\u001b[0mpath_\u001b[0m\u001b[1;33m,\u001b[0m \u001b[0mpath\u001b[0m \u001b[1;33m+\u001b[0m \u001b[1;33m[\u001b[0m\u001b[1;34m''\u001b[0m\u001b[1;33m]\u001b[0m\u001b[1;33m)\u001b[0m\u001b[1;33m.\u001b[0m\u001b[0mopen\u001b[0m\u001b[1;33m(\u001b[0m\u001b[1;33m)\u001b[0m\u001b[1;33m\u001b[0m\u001b[0m\n\u001b[0m\u001b[0;32m    896\u001b[0m     \u001b[1;32melif\u001b[0m \u001b[0mprotocol\u001b[0m\u001b[1;33m.\u001b[0m\u001b[0mlower\u001b[0m\u001b[1;33m(\u001b[0m\u001b[1;33m)\u001b[0m \u001b[1;33m==\u001b[0m \u001b[1;34m'file'\u001b[0m\u001b[1;33m:\u001b[0m\u001b[1;33m\u001b[0m\u001b[0m\n\u001b[0;32m    897\u001b[0m         \u001b[1;31m# urllib might not use mode='rb', so handle this one ourselves:\u001b[0m\u001b[1;33m\u001b[0m\u001b[1;33m\u001b[0m\u001b[0m\n",
      "\u001b[1;32mC:\\Users\\Michael\\Anaconda\\lib\\site-packages\\nltk\\data.pyc\u001b[0m in \u001b[0;36mfind\u001b[1;34m(resource_name, paths)\u001b[0m\n\u001b[0;32m    622\u001b[0m     \u001b[0msep\u001b[0m \u001b[1;33m=\u001b[0m \u001b[1;34m'*'\u001b[0m\u001b[1;33m*\u001b[0m\u001b[1;36m70\u001b[0m\u001b[1;33m\u001b[0m\u001b[0m\n\u001b[0;32m    623\u001b[0m     \u001b[0mresource_not_found\u001b[0m \u001b[1;33m=\u001b[0m \u001b[1;34m'\\n%s\\n%s\\n%s'\u001b[0m \u001b[1;33m%\u001b[0m \u001b[1;33m(\u001b[0m\u001b[0msep\u001b[0m\u001b[1;33m,\u001b[0m \u001b[0mmsg\u001b[0m\u001b[1;33m,\u001b[0m \u001b[0msep\u001b[0m\u001b[1;33m)\u001b[0m\u001b[1;33m\u001b[0m\u001b[0m\n\u001b[1;32m--> 624\u001b[1;33m     \u001b[1;32mraise\u001b[0m \u001b[0mLookupError\u001b[0m\u001b[1;33m(\u001b[0m\u001b[0mresource_not_found\u001b[0m\u001b[1;33m)\u001b[0m\u001b[1;33m\u001b[0m\u001b[0m\n\u001b[0m\u001b[0;32m    625\u001b[0m \u001b[1;33m\u001b[0m\u001b[0m\n\u001b[0;32m    626\u001b[0m \u001b[1;32mdef\u001b[0m \u001b[0mretrieve\u001b[0m\u001b[1;33m(\u001b[0m\u001b[0mresource_url\u001b[0m\u001b[1;33m,\u001b[0m \u001b[0mfilename\u001b[0m\u001b[1;33m=\u001b[0m\u001b[0mNone\u001b[0m\u001b[1;33m,\u001b[0m \u001b[0mverbose\u001b[0m\u001b[1;33m=\u001b[0m\u001b[0mTrue\u001b[0m\u001b[1;33m)\u001b[0m\u001b[1;33m:\u001b[0m\u001b[1;33m\u001b[0m\u001b[0m\n",
      "\u001b[1;31mLookupError\u001b[0m: \n**********************************************************************\n  Resource u'tokenizers/punkt/english.pickle' not found.  Please\n  use the NLTK Downloader to obtain the resource:  >>>\n  nltk.download()\n  Searched in:\n    - 'C:\\\\home/nltk_data'\n    - 'C:\\\\nltk_data'\n    - 'D:\\\\nltk_data'\n    - 'E:\\\\nltk_data'\n    - 'C:\\\\Users\\\\Michael\\\\Anaconda\\\\nltk_data'\n    - 'C:\\\\Users\\\\Michael\\\\Anaconda\\\\lib\\\\nltk_data'\n    - 'C:\\\\Users\\\\Michael\\\\AppData\\\\Roaming\\\\nltk_data'\n    - u''\n**********************************************************************"
     ]
    }
   ],
   "source": [
    "# tokenize into sentences\n",
    "sentences = [sent for sent in nltk.sent_tokenize(text)]\n",
    "sentences[0]"
   ]
  },
  {
   "cell_type": "code",
   "execution_count": null,
   "metadata": {
    "collapsed": true
   },
   "outputs": [],
   "source": []
  }
 ],
 "metadata": {
  "kernelspec": {
   "display_name": "Python 2",
   "language": "python",
   "name": "python2"
  },
  "language_info": {
   "codemirror_mode": {
    "name": "ipython",
    "version": 2
   },
   "file_extension": ".py",
   "mimetype": "text/x-python",
   "name": "python",
   "nbconvert_exporter": "python",
   "pygments_lexer": "ipython2",
   "version": "2.7.10"
  }
 },
 "nbformat": 4,
 "nbformat_minor": 0
}
