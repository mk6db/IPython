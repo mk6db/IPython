{
 "cells": [
  {
   "cell_type": "code",
   "execution_count": 1,
   "metadata": {
    "collapsed": false
   },
   "outputs": [
    {
     "data": {
      "text/plain": [
       "\"\\nBasic Patterns:\\n\\nOrdinary characters match themselves exactly\\n. matches any single character except newline \\n\\n\\\\w matches a word character (letter, digit, underscore)\\n\\\\W matches any non-word character\\n\\x08 matches boundary between word and non-word\\n\\\\s matches single whitespace character (space, newline, return, tab, form)\\n\\\\S matches single non-whitespace character\\n\\\\d matches single digit (0 through 9)\\n\\t matches tab\\n\\n matches newline\\n\\r matches return\\n\\\\ match a special character, such as period: \\\\.\\n\\nRules for Searching:\\n\\nSearch proceeds through string from start to end, stopping at first match\\nAll of the pattern must be matched\\n\\nBasic Search Function:\\n\\nmatch = re.search(r'pattern', string_to_search)\\nReturns match object\\nIf there is a match, access match using match.group()\\nIf there is no match, match is None\\nUse 'r' in front of pattern to designate a raw string\\n\""
      ]
     },
     "execution_count": 1,
     "metadata": {},
     "output_type": "execute_result"
    }
   ],
   "source": [
    "'''\n",
    "Regular Expressions (regex) Reference Guide\n",
    "\n",
    "Sources:\n",
    "    https://developers.google.com/edu/python/regular-expressions\n",
    "    https://docs.python.org/2/library/re.html\n",
    "'''\n",
    "\n",
    "'''\n",
    "Basic Patterns:\n",
    "\n",
    "Ordinary characters match themselves exactly\n",
    ". matches any single character except newline \\n\n",
    "\\w matches a word character (letter, digit, underscore)\n",
    "\\W matches any non-word character\n",
    "\\b matches boundary between word and non-word\n",
    "\\s matches single whitespace character (space, newline, return, tab, form)\n",
    "\\S matches single non-whitespace character\n",
    "\\d matches single digit (0 through 9)\n",
    "\\t matches tab\n",
    "\\n matches newline\n",
    "\\r matches return\n",
    "\\ match a special character, such as period: \\.\n",
    "\n",
    "Rules for Searching:\n",
    "\n",
    "Search proceeds through string from start to end, stopping at first match\n",
    "All of the pattern must be matched\n",
    "\n",
    "Basic Search Function:\n",
    "\n",
    "match = re.search(r'pattern', string_to_search)\n",
    "Returns match object\n",
    "If there is a match, access match using match.group()\n",
    "If there is no match, match is None\n",
    "Use 'r' in front of pattern to designate a raw string\n",
    "'''"
   ]
  },
  {
   "cell_type": "code",
   "execution_count": 2,
   "metadata": {
    "collapsed": false
   },
   "outputs": [
    {
     "name": "stdout",
     "output_type": "stream",
     "text": [
      "my\n"
     ]
    }
   ],
   "source": [
    "import re\n",
    "\n",
    "s = 'my 1st string!!'\n",
    "\n",
    "match = re.search(r'my',s)     # returns match object\n",
    "if match:                      # checks whether match was found\n",
    "    print match.group()        # if match was found, then print result    "
   ]
  },
  {
   "cell_type": "code",
   "execution_count": 3,
   "metadata": {
    "collapsed": false,
    "scrolled": true
   },
   "outputs": [
    {
     "ename": "AttributeError",
     "evalue": "'NoneType' object has no attribute 'group'",
     "output_type": "error",
     "traceback": [
      "\u001b[1;31m---------------------------------------------------------------------------\u001b[0m",
      "\u001b[1;31mAttributeError\u001b[0m                            Traceback (most recent call last)",
      "\u001b[1;32m<ipython-input-3-7a71c5779ec7>\u001b[0m in \u001b[0;36m<module>\u001b[1;34m()\u001b[0m\n\u001b[0;32m      1\u001b[0m \u001b[0mre\u001b[0m\u001b[1;33m.\u001b[0m\u001b[0msearch\u001b[0m\u001b[1;33m(\u001b[0m\u001b[1;34mr'my'\u001b[0m\u001b[1;33m,\u001b[0m \u001b[0ms\u001b[0m\u001b[1;33m)\u001b[0m\u001b[1;33m.\u001b[0m\u001b[0mgroup\u001b[0m\u001b[1;33m(\u001b[0m\u001b[1;33m)\u001b[0m     \u001b[1;31m# single-line version (without error handling)\u001b[0m\u001b[1;33m\u001b[0m\u001b[0m\n\u001b[0;32m      2\u001b[0m \u001b[0mre\u001b[0m\u001b[1;33m.\u001b[0m\u001b[0msearch\u001b[0m\u001b[1;33m(\u001b[0m\u001b[1;34mr'st'\u001b[0m\u001b[1;33m,\u001b[0m \u001b[0ms\u001b[0m\u001b[1;33m)\u001b[0m\u001b[1;33m.\u001b[0m\u001b[0mgroup\u001b[0m\u001b[1;33m(\u001b[0m\u001b[1;33m)\u001b[0m     \u001b[1;31m# 'st'\u001b[0m\u001b[1;33m\u001b[0m\u001b[0m\n\u001b[1;32m----> 3\u001b[1;33m \u001b[0mre\u001b[0m\u001b[1;33m.\u001b[0m\u001b[0msearch\u001b[0m\u001b[1;33m(\u001b[0m\u001b[1;34mr'sta'\u001b[0m\u001b[1;33m,\u001b[0m \u001b[0ms\u001b[0m\u001b[1;33m)\u001b[0m\u001b[1;33m.\u001b[0m\u001b[0mgroup\u001b[0m\u001b[1;33m(\u001b[0m\u001b[1;33m)\u001b[0m    \u001b[1;31m# error\u001b[0m\u001b[1;33m\u001b[0m\u001b[0m\n\u001b[0m\u001b[0;32m      4\u001b[0m \u001b[0mre\u001b[0m\u001b[1;33m.\u001b[0m\u001b[0msearch\u001b[0m\u001b[1;33m(\u001b[0m\u001b[1;34mr'\\w\\w\\w'\u001b[0m\u001b[1;33m,\u001b[0m \u001b[0ms\u001b[0m\u001b[1;33m)\u001b[0m\u001b[1;33m.\u001b[0m\u001b[0mgroup\u001b[0m\u001b[1;33m(\u001b[0m\u001b[1;33m)\u001b[0m \u001b[1;31m# '1st'\u001b[0m\u001b[1;33m\u001b[0m\u001b[0m\n\u001b[0;32m      5\u001b[0m \u001b[0mre\u001b[0m\u001b[1;33m.\u001b[0m\u001b[0msearch\u001b[0m\u001b[1;33m(\u001b[0m\u001b[1;34mr'\\W'\u001b[0m\u001b[1;33m,\u001b[0m \u001b[0ms\u001b[0m\u001b[1;33m)\u001b[0m\u001b[1;33m.\u001b[0m\u001b[0mgroup\u001b[0m\u001b[1;33m(\u001b[0m\u001b[1;33m)\u001b[0m     \u001b[1;31m# ' '\u001b[0m\u001b[1;33m\u001b[0m\u001b[0m\n",
      "\u001b[1;31mAttributeError\u001b[0m: 'NoneType' object has no attribute 'group'"
     ]
    }
   ],
   "source": [
    "re.search(r'my', s).group()     # single-line version (without error handling)\n",
    "re.search(r'st', s).group()     # 'st'\n",
    "re.search(r'sta', s).group()    # error\n",
    "re.search(r'\\w\\w\\w', s).group() # '1st'\n",
    "re.search(r'\\W', s).group()     # ' '\n",
    "re.search(r'\\W\\W', s).group()   # '!!'\n",
    "re.search(r'\\s', s).group()     # ' '\n",
    "re.search(r'\\s\\s', s).group()   # error\n",
    "re.search(r'..t', s).group()    # '1st'\n",
    "re.search(r'\\s\\St', s).group()  # ' st'\n",
    "re.search(r'\\bst', s).group()   # 'st'"
   ]
  },
  {
   "cell_type": "code",
   "execution_count": 6,
   "metadata": {
    "collapsed": false
   },
   "outputs": [
    {
     "data": {
      "text/plain": [
       "'is'"
      ]
     },
     "execution_count": 6,
     "metadata": {},
     "output_type": "execute_result"
    }
   ],
   "source": [
    "'''\n",
    "Repetition:\n",
    "+ 1 or more occurrences of the pattern to its left\n",
    "* 0 or more occurrences\n",
    "? 0 or 1 occurrence\n",
    "+ and * are 'greedy': they try to use up as much of the string as possible\n",
    "Add ? after + or * to make them non-greedy: +? or *?\n",
    "'''\n",
    "\n",
    "s = 'sid is missing class'\n",
    "\n",
    "re.search(r'miss\\w+', s).group()    # 'missing'\n",
    "re.search(r'is\\w+', s).group()      # 'issing'\n",
    "re.search(r'is\\w*', s).group()      # 'is'"
   ]
  },
  {
   "cell_type": "code",
   "execution_count": 7,
   "metadata": {
    "collapsed": false
   },
   "outputs": [
    {
     "data": {
      "text/plain": [
       "'<h1>'"
      ]
     },
     "execution_count": 7,
     "metadata": {},
     "output_type": "execute_result"
    }
   ],
   "source": [
    "s = '<h1>my heading</h1>'\n",
    "\n",
    "re.search(r'<.+>', s).group()   # '<h1>my heading</h1>'\n",
    "re.search(r'<.+?>', s).group()  # '<h1>'"
   ]
  },
  {
   "cell_type": "code",
   "execution_count": 9,
   "metadata": {
    "collapsed": false
   },
   "outputs": [
    {
     "data": {
      "text/plain": [
       "'lass'"
      ]
     },
     "execution_count": 9,
     "metadata": {},
     "output_type": "execute_result"
    }
   ],
   "source": [
    "'''\n",
    "Positions:\n",
    "^ match start of a string\n",
    "$ match end of a string\n",
    "'''\n",
    "\n",
    "s = 'sid is missing class'\n",
    "\n",
    "#re.search(r'^miss', s).group()  # error\n",
    "re.search(r'..ss', s).group()   # 'miss'\n",
    "re.search(r'..ss$', s).group()  # 'lass'\n"
   ]
  },
  {
   "cell_type": "code",
   "execution_count": 10,
   "metadata": {
    "collapsed": false
   },
   "outputs": [
    {
     "data": {
      "text/plain": [
       "'john-doe@gmail.com'"
      ]
     },
     "execution_count": 10,
     "metadata": {},
     "output_type": "execute_result"
    }
   ],
   "source": [
    "'''\n",
    "Brackets:\n",
    "[abc] match a or b or c\n",
    "\\w, \\s, etc. work inside brackets, except period just means a literal period\n",
    "[a-z] match any lowercase letter (dash indicates range unless it's last)\n",
    "[abc-] match a or b or c or -\n",
    "[^ab] match anything except a or b\n",
    "'''\n",
    "\n",
    "s = 'my email is john-doe@gmail.com'\n",
    "\n",
    "re.search(r'\\w+@\\w+', s).group()            # 'doe@gmail'\n",
    "re.search(r'[\\w.-]+@[\\w.-]+', s).group()    # 'john-doe@gmail.com'"
   ]
  },
  {
   "cell_type": "code",
   "execution_count": 11,
   "metadata": {
    "collapsed": false
   },
   "outputs": [
    {
     "data": {
      "text/plain": [
       "'Cindy'"
      ]
     },
     "execution_count": 11,
     "metadata": {},
     "output_type": "execute_result"
    }
   ],
   "source": [
    "'''\n",
    "Lookarounds:\n",
    "\n",
    "Lookahead matches a pattern only if it is followed by another pattern\n",
    "100(?= dollars) matches '100' only if it is followed by ' dollars'\n",
    "\n",
    "Lookbehind matches a pattern only if it is preceded by another pattern\n",
    "(?<=\\$)100 matches '100' only if it is preceded by '$'\n",
    "'''\n",
    "\n",
    "s = 'Name: Cindy, 30 years old'\n",
    "\n",
    "re.search(r'\\d+(?= years? old)', s).group()     # '30'\n",
    "re.search(r'(?<=Name: )\\w+', s).group()         # 'Cindy'"
   ]
  },
  {
   "cell_type": "code",
   "execution_count": 12,
   "metadata": {
    "collapsed": true
   },
   "outputs": [],
   "source": [
    "'''\n",
    "Match Groups:\n",
    "\n",
    "Parentheses create logical groups inside of match text\n",
    "match.group(1) corresponds to first group\n",
    "match.group(2) corresponds to second group\n",
    "match.group() corresponds to entire match text (as usual)\n",
    "'''\n",
    "\n",
    "s = 'my email is john-doe@gmail.com'\n",
    "\n",
    "match = re.search(r'([\\w.-]+)@([\\w.-]+)', s)\n",
    "if match:\n",
    "    match.group(1)      # 'john-doe'\n",
    "    match.group(2)      # 'gmail.com'\n",
    "    match.group()       # 'john-doe@gmail.com'"
   ]
  },
  {
   "cell_type": "code",
   "execution_count": 13,
   "metadata": {
    "collapsed": false
   },
   "outputs": [
    {
     "data": {
      "text/plain": [
       "[('joe', 'gmail.com'), ('bob', 'gmail.com')]"
      ]
     },
     "execution_count": 13,
     "metadata": {},
     "output_type": "execute_result"
    }
   ],
   "source": [
    "'''\n",
    "Finding All Matches:\n",
    "\n",
    "re.findall() finds all matches and returns them as a list of strings\n",
    "list_of_strings = re.findall(r'pattern', string_to_search)\n",
    "\n",
    "If pattern includes parentheses, a list of tuples is returned\n",
    "'''\n",
    "\n",
    "s = 'emails: joe@gmail.com, bob@gmail.com'\n",
    "\n",
    "re.findall(r'[\\w.-]+@[\\w.-]+', s)       # ['joe@gmail.com', 'bob@gmail.com']\n",
    "re.findall(r'([\\w.-]+)@([\\w.-]+)', s)   # [('joe', 'gmail.com'), ('bob', 'gmail.com')]"
   ]
  },
  {
   "cell_type": "code",
   "execution_count": 14,
   "metadata": {
    "collapsed": false
   },
   "outputs": [
    {
     "data": {
      "text/plain": [
       "['nicole@ga.co', 'PAT@GA.CO']"
      ]
     },
     "execution_count": 14,
     "metadata": {},
     "output_type": "execute_result"
    }
   ],
   "source": [
    "'''\n",
    "Option Flags:\n",
    "\n",
    "Options flags modify the behavior of the pattern matching\n",
    "\n",
    "default: matching is case sensitive\n",
    "re.IGNORECASE: ignore uppercase/lowercase differences ('a' matches 'a' or 'A')\n",
    "\n",
    "default: period matches any character except newline\n",
    "re.DOTALL: allow period to match newline\n",
    "\n",
    "default: within a string of many lines, ^ and $ match start and end of entire string\n",
    "re.MULTILINE: allow ^ and $ to match start and end of each line\n",
    "\n",
    "Option flag is third argument to re.search() or re.findall():\n",
    "re.search(r'pattern', string_to_search, re.IGNORECASE)\n",
    "re.findall(r'pattern', string_to_search, re.IGNORECASE)\n",
    "'''\n",
    "\n",
    "s = 'emails: nicole@ga.co, joe@gmail.com, PAT@GA.CO'\n",
    "\n",
    "re.findall(r'\\w+@ga\\.co', s)                # ['nicole@ga.co']\n",
    "re.findall(r'\\w+@ga\\.co', s, re.IGNORECASE) # ['nicole@ga.co', 'PAT@GA.CO']\n"
   ]
  },
  {
   "cell_type": "code",
   "execution_count": 15,
   "metadata": {
    "collapsed": false
   },
   "outputs": [
    {
     "data": {
      "text/plain": [
       "'emails: joe@yahoo.com, bob@yahoo.com'"
      ]
     },
     "execution_count": 15,
     "metadata": {},
     "output_type": "execute_result"
    }
   ],
   "source": [
    "'''\n",
    "Substitution:\n",
    "\n",
    "re.sub() finds all matches and replaces them with a specified string\n",
    "new_string = re.sub(r'pattern', r'replacement', string_to_search)\n",
    "\n",
    "Replacement string can refer to text from matching groups:\n",
    "\\1 refers to group(1)\n",
    "\\2 refers to group(2)\n",
    "etc.\n",
    "'''\n",
    "\n",
    "s = 'sid is missing class'\n",
    "\n",
    "re.sub(r'is ', r'was ', s)                          # 'sid was missing class'\n",
    "\n",
    "s = 'emails: joe@gmail.com, bob@gmail.com'\n",
    "\n",
    "re.sub(r'([\\w.-]+)@([\\w.-]+)', r'\\1@yahoo.com', s)  # 'emails: joe@yahoo.com, bob@yahoo.com'"
   ]
  },
  {
   "cell_type": "code",
   "execution_count": 16,
   "metadata": {
    "collapsed": false
   },
   "outputs": [
    {
     "data": {
      "text/plain": [
       "\"\\nUseful, But Not Covered:\\nre.split() splits a string by the occurrences of a pattern\\nre.compile() compiles a pattern (for improved performance if it's used many times)\\nA|B indicates a pattern that can match A or B\\n\""
      ]
     },
     "execution_count": 16,
     "metadata": {},
     "output_type": "execute_result"
    }
   ],
   "source": [
    "'''\n",
    "Useful, But Not Covered:\n",
    "re.split() splits a string by the occurrences of a pattern\n",
    "re.compile() compiles a pattern (for improved performance if it's used many times)\n",
    "A|B indicates a pattern that can match A or B\n",
    "'''"
   ]
  },
  {
   "cell_type": "code",
   "execution_count": null,
   "metadata": {
    "collapsed": true
   },
   "outputs": [],
   "source": []
  }
 ],
 "metadata": {
  "kernelspec": {
   "display_name": "Python 2",
   "language": "python",
   "name": "python2"
  },
  "language_info": {
   "codemirror_mode": {
    "name": "ipython",
    "version": 2
   },
   "file_extension": ".py",
   "mimetype": "text/x-python",
   "name": "python",
   "nbconvert_exporter": "python",
   "pygments_lexer": "ipython2",
   "version": "2.7.10"
  }
 },
 "nbformat": 4,
 "nbformat_minor": 0
}
