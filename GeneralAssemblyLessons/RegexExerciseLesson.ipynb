{
 "cells": [
  {
   "cell_type": "code",
   "execution_count": 2,
   "metadata": {
    "collapsed": false
   },
   "outputs": [],
   "source": [
    "# regular expression exercise\n",
    "# open file and store each line as one row\n",
    "with open('C:\\Users\\Michael\\projects\\DAT5\\data\\homicides.txt','rU') as f:\n",
    "    raw = [row for row in f]"
   ]
  },
  {
   "cell_type": "code",
   "execution_count": 3,
   "metadata": {
    "collapsed": false
   },
   "outputs": [
    {
     "data": {
      "text/plain": [
       "'39.311024, -76.674227, iconHomicideShooting, \\'p2\\', \\'<dl><dt>Leon Nelson</dt><dd class=\"address\">3400 Clifton Ave.<br />Baltimore, MD 21216</dd><dd>black male, 17 years old</dd><dd>Found on January 1, 2007</dd><dd>Victim died at Shock Trauma</dd><dd>Cause: shooting</dd></dl>\\'\\n'"
      ]
     },
     "execution_count": 3,
     "metadata": {},
     "output_type": "execute_result"
    }
   ],
   "source": [
    "# inspect row\n",
    "raw[0]"
   ]
  },
  {
   "cell_type": "code",
   "execution_count": 4,
   "metadata": {
    "collapsed": true
   },
   "outputs": [],
   "source": [
    "# import re\n",
    "import re"
   ]
  },
  {
   "cell_type": "code",
   "execution_count": 5,
   "metadata": {
    "collapsed": true
   },
   "outputs": [],
   "source": [
    "# creating list of ages\n",
    "ages = []\n",
    "for row in raw:\n",
    "    match = re.search(r'\\d+ years old',row)\n",
    "    if match:\n",
    "        ages.append(match.group())\n",
    "    else:\n",
    "        ages.append('0')"
   ]
  },
  {
   "cell_type": "code",
   "execution_count": 6,
   "metadata": {
    "collapsed": true
   },
   "outputs": [],
   "source": [
    "# split the string on spaces, only keep the first element, and convert into int\n",
    "ages = [int(element.split()[0]) for element in ages]"
   ]
  },
  {
   "cell_type": "code",
   "execution_count": 7,
   "metadata": {
    "collapsed": true
   },
   "outputs": [],
   "source": [
    "# check that 'raw' and 'ages' are the same length\n",
    "assert(len(raw)==len(ages))"
   ]
  },
  {
   "cell_type": "code",
   "execution_count": 12,
   "metadata": {
    "collapsed": true
   },
   "outputs": [],
   "source": [
    "# simplify the process using a lookahead\n",
    "ages = []\n",
    "for row in raw:\n",
    "    match = re.search(r'\\d+(?=years)',row)\n",
    "    if match:\n",
    "        ages.append(int(match.group()))\n",
    "    else:\n",
    "        ages.append(0)"
   ]
  },
  {
   "cell_type": "code",
   "execution_count": 13,
   "metadata": {
    "collapsed": false
   },
   "outputs": [],
   "source": [
    "# use regular expressions to create a list of causes from the homicide data\n",
    "causes = []\n",
    "for row in raw:\n",
    "    match = re.search(r'(?<=Cause: )\\w+',row)\n",
    "    if match:\n",
    "        causes.append(match.group())\n",
    "    else:\n",
    "        causes.append('none')"
   ]
  },
  {
   "cell_type": "code",
   "execution_count": 16,
   "metadata": {
    "collapsed": false
   },
   "outputs": [],
   "source": [
    "from collections import Counter"
   ]
  },
  {
   "cell_type": "code",
   "execution_count": 17,
   "metadata": {
    "collapsed": true
   },
   "outputs": [],
   "source": [
    "c = Counter(causes)"
   ]
  },
  {
   "cell_type": "code",
   "execution_count": 19,
   "metadata": {
    "collapsed": false
   },
   "outputs": [
    {
     "name": "stdout",
     "output_type": "stream",
     "text": [
      "Shooting: 775\n",
      "shooting: 228\n",
      "Stabbing: 100\n",
      "Blunt: 57\n",
      "Asphyxiation: 23\n",
      "stabbing: 21\n",
      "blunt: 20\n",
      "Unknown: 8\n",
      "Other: 6\n",
      "none: 5\n"
     ]
    }
   ],
   "source": [
    "for word, count in c.most_common(10):\n",
    "        print(\"{0}: {1}\".format(word, count))"
   ]
  },
  {
   "cell_type": "code",
   "execution_count": 20,
   "metadata": {
    "collapsed": false
   },
   "outputs": [
    {
     "data": {
      "text/plain": [
       "12"
      ]
     },
     "execution_count": 20,
     "metadata": {},
     "output_type": "execute_result"
    }
   ],
   "source": [
    "len(c)"
   ]
  },
  {
   "cell_type": "code",
   "execution_count": 21,
   "metadata": {
    "collapsed": false
   },
   "outputs": [
    {
     "name": "stdout",
     "output_type": "stream",
     "text": [
      "Counter({'Shooting': 775, 'shooting': 228, 'Stabbing': 100, 'Blunt': 57, 'Asphyxiation': 23, 'stabbing': 21, 'blunt': 20, 'Unknown': 8, 'Other': 6, 'none': 5, 'asphyxiation': 5, 'unknown': 2})\n"
     ]
    }
   ],
   "source": [
    "print c"
   ]
  },
  {
   "cell_type": "code",
   "execution_count": 23,
   "metadata": {
    "collapsed": false
   },
   "outputs": [
    {
     "data": {
      "text/plain": [
       "13"
      ]
     },
     "execution_count": 23,
     "metadata": {},
     "output_type": "execute_result"
    }
   ],
   "source": [
    "c['Unknown'] += c['none']\n",
    "c['Unknown']"
   ]
  },
  {
   "cell_type": "code",
   "execution_count": 24,
   "metadata": {
    "collapsed": true
   },
   "outputs": [],
   "source": [
    "del c['none']"
   ]
  },
  {
   "cell_type": "code",
   "execution_count": 25,
   "metadata": {
    "collapsed": false
   },
   "outputs": [
    {
     "name": "stdout",
     "output_type": "stream",
     "text": [
      "Counter({'Shooting': 775, 'shooting': 228, 'Stabbing': 100, 'Blunt': 57, 'Asphyxiation': 23, 'stabbing': 21, 'blunt': 20, 'Unknown': 13, 'Other': 6, 'asphyxiation': 5, 'unknown': 2})\n"
     ]
    }
   ],
   "source": [
    "print c"
   ]
  },
  {
   "cell_type": "code",
   "execution_count": null,
   "metadata": {
    "collapsed": true
   },
   "outputs": [],
   "source": []
  }
 ],
 "metadata": {
  "kernelspec": {
   "display_name": "Python 2",
   "language": "python",
   "name": "python2"
  },
  "language_info": {
   "codemirror_mode": {
    "name": "ipython",
    "version": 2
   },
   "file_extension": ".py",
   "mimetype": "text/x-python",
   "name": "python",
   "nbconvert_exporter": "python",
   "pygments_lexer": "ipython2",
   "version": "2.7.10"
  }
 },
 "nbformat": 4,
 "nbformat_minor": 0
}
