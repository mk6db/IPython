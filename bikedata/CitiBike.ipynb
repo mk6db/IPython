{
 "cells": [
  {
   "cell_type": "code",
   "execution_count": 1,
   "metadata": {
    "collapsed": true
   },
   "outputs": [],
   "source": [
    "# imports\n",
    "import pandas as pd\n",
    "import StringIO\n",
    "import zipfile\n",
    "import requests\n",
    "import matplotlib.pyplot as plt\n",
    "import requests\n",
    "from bs4 import BeautifulSoup\n",
    "import re\n",
    "import json"
   ]
  },
  {
   "cell_type": "code",
   "execution_count": 2,
   "metadata": {
    "collapsed": false
   },
   "outputs": [
    {
     "data": {
      "text/html": [
       "<div>\n",
       "<table border=\"1\" class=\"dataframe\">\n",
       "  <thead>\n",
       "    <tr style=\"text-align: right;\">\n",
       "      <th></th>\n",
       "      <th>tripduration</th>\n",
       "      <th>starttime</th>\n",
       "      <th>stoptime</th>\n",
       "      <th>start station id</th>\n",
       "      <th>start station name</th>\n",
       "      <th>start station latitude</th>\n",
       "      <th>start station longitude</th>\n",
       "      <th>end station id</th>\n",
       "      <th>end station name</th>\n",
       "      <th>end station latitude</th>\n",
       "      <th>end station longitude</th>\n",
       "      <th>bikeid</th>\n",
       "      <th>usertype</th>\n",
       "      <th>birth year</th>\n",
       "      <th>gender</th>\n",
       "    </tr>\n",
       "  </thead>\n",
       "  <tbody>\n",
       "    <tr>\n",
       "      <th>0</th>\n",
       "      <td>1338</td>\n",
       "      <td>6/1/2015 0:00</td>\n",
       "      <td>6/1/2015 0:22</td>\n",
       "      <td>128</td>\n",
       "      <td>MacDougal St &amp; Prince St</td>\n",
       "      <td>40.727103</td>\n",
       "      <td>-74.002971</td>\n",
       "      <td>2021</td>\n",
       "      <td>W 45 St &amp; 8 Ave</td>\n",
       "      <td>40.759291</td>\n",
       "      <td>-73.988597</td>\n",
       "      <td>20721</td>\n",
       "      <td>Subscriber</td>\n",
       "      <td>1984</td>\n",
       "      <td>1</td>\n",
       "    </tr>\n",
       "    <tr>\n",
       "      <th>1</th>\n",
       "      <td>290</td>\n",
       "      <td>6/1/2015 0:00</td>\n",
       "      <td>6/1/2015 0:05</td>\n",
       "      <td>438</td>\n",
       "      <td>St Marks Pl &amp; 1 Ave</td>\n",
       "      <td>40.727791</td>\n",
       "      <td>-73.985649</td>\n",
       "      <td>312</td>\n",
       "      <td>Allen St &amp; E Houston St</td>\n",
       "      <td>40.722055</td>\n",
       "      <td>-73.989111</td>\n",
       "      <td>21606</td>\n",
       "      <td>Subscriber</td>\n",
       "      <td>1997</td>\n",
       "      <td>1</td>\n",
       "    </tr>\n",
       "    <tr>\n",
       "      <th>2</th>\n",
       "      <td>634</td>\n",
       "      <td>6/1/2015 0:01</td>\n",
       "      <td>6/1/2015 0:11</td>\n",
       "      <td>383</td>\n",
       "      <td>Greenwich Ave &amp; Charles St</td>\n",
       "      <td>40.735238</td>\n",
       "      <td>-74.000271</td>\n",
       "      <td>388</td>\n",
       "      <td>W 26 St &amp; 10 Ave</td>\n",
       "      <td>40.749718</td>\n",
       "      <td>-74.002950</td>\n",
       "      <td>16595</td>\n",
       "      <td>Subscriber</td>\n",
       "      <td>1993</td>\n",
       "      <td>1</td>\n",
       "    </tr>\n",
       "    <tr>\n",
       "      <th>3</th>\n",
       "      <td>159</td>\n",
       "      <td>6/1/2015 0:01</td>\n",
       "      <td>6/1/2015 0:04</td>\n",
       "      <td>361</td>\n",
       "      <td>Allen St &amp; Hester St</td>\n",
       "      <td>40.716059</td>\n",
       "      <td>-73.991908</td>\n",
       "      <td>531</td>\n",
       "      <td>Forsyth St &amp; Broome St</td>\n",
       "      <td>40.718939</td>\n",
       "      <td>-73.992663</td>\n",
       "      <td>16949</td>\n",
       "      <td>Subscriber</td>\n",
       "      <td>1981</td>\n",
       "      <td>1</td>\n",
       "    </tr>\n",
       "    <tr>\n",
       "      <th>4</th>\n",
       "      <td>1233</td>\n",
       "      <td>6/1/2015 0:02</td>\n",
       "      <td>6/1/2015 0:22</td>\n",
       "      <td>382</td>\n",
       "      <td>University Pl &amp; E 14 St</td>\n",
       "      <td>40.734927</td>\n",
       "      <td>-73.992005</td>\n",
       "      <td>532</td>\n",
       "      <td>S 5 Pl &amp; S 4 St</td>\n",
       "      <td>40.710451</td>\n",
       "      <td>-73.960876</td>\n",
       "      <td>17028</td>\n",
       "      <td>Customer</td>\n",
       "      <td>NaN</td>\n",
       "      <td>0</td>\n",
       "    </tr>\n",
       "  </tbody>\n",
       "</table>\n",
       "</div>"
      ],
      "text/plain": [
       "   tripduration      starttime       stoptime  start station id  \\\n",
       "0          1338  6/1/2015 0:00  6/1/2015 0:22               128   \n",
       "1           290  6/1/2015 0:00  6/1/2015 0:05               438   \n",
       "2           634  6/1/2015 0:01  6/1/2015 0:11               383   \n",
       "3           159  6/1/2015 0:01  6/1/2015 0:04               361   \n",
       "4          1233  6/1/2015 0:02  6/1/2015 0:22               382   \n",
       "\n",
       "           start station name  start station latitude  \\\n",
       "0    MacDougal St & Prince St               40.727103   \n",
       "1         St Marks Pl & 1 Ave               40.727791   \n",
       "2  Greenwich Ave & Charles St               40.735238   \n",
       "3        Allen St & Hester St               40.716059   \n",
       "4     University Pl & E 14 St               40.734927   \n",
       "\n",
       "   start station longitude  end station id         end station name  \\\n",
       "0               -74.002971            2021          W 45 St & 8 Ave   \n",
       "1               -73.985649             312  Allen St & E Houston St   \n",
       "2               -74.000271             388         W 26 St & 10 Ave   \n",
       "3               -73.991908             531   Forsyth St & Broome St   \n",
       "4               -73.992005             532          S 5 Pl & S 4 St   \n",
       "\n",
       "   end station latitude  end station longitude  bikeid    usertype  \\\n",
       "0             40.759291             -73.988597   20721  Subscriber   \n",
       "1             40.722055             -73.989111   21606  Subscriber   \n",
       "2             40.749718             -74.002950   16595  Subscriber   \n",
       "3             40.718939             -73.992663   16949  Subscriber   \n",
       "4             40.710451             -73.960876   17028    Customer   \n",
       "\n",
       "   birth year  gender  \n",
       "0        1984       1  \n",
       "1        1997       1  \n",
       "2        1993       1  \n",
       "3        1981       1  \n",
       "4         NaN       0  "
      ]
     },
     "execution_count": 2,
     "metadata": {},
     "output_type": "execute_result"
    }
   ],
   "source": [
    "# retrieve CitiBike data June 2015\n",
    "r = requests.get('https://s3.amazonaws.com/tripdata/201506-citibike-tripdata.zip')\n",
    "z = zipfile.ZipFile(StringIO.StringIO(r.content))\n",
    "df = pd.read_csv(z.open('201506-citibike-tripdata.csv'))\n",
    "df.head()\n"
   ]
  },
  {
   "cell_type": "code",
   "execution_count": 3,
   "metadata": {
    "collapsed": false,
    "scrolled": true
   },
   "outputs": [
    {
     "name": "stdout",
     "output_type": "stream",
     "text": [
      "tripduration                    0\n",
      "starttime                       0\n",
      "stoptime                        0\n",
      "start station id                0\n",
      "start station name              0\n",
      "start station latitude          0\n",
      "start station longitude         0\n",
      "end station id                  0\n",
      "end station name                0\n",
      "end station latitude            0\n",
      "end station longitude           0\n",
      "bikeid                          0\n",
      "usertype                        0\n",
      "birth year                 130392\n",
      "gender                          0\n",
      "dtype: int64\n",
      "\n",
      "\n",
      "(941219, 15)\n",
      "\n",
      "\n",
      "['tripduration' 'starttime' 'stoptime' 'start station id'\n",
      " 'start station name' 'start station latitude' 'start station longitude'\n",
      " 'end station id' 'end station name' 'end station latitude'\n",
      " 'end station longitude' 'bikeid' 'usertype' 'birth year' 'gender']\n",
      "\n",
      "\n",
      "tripduration                 int64\n",
      "starttime                   object\n",
      "stoptime                    object\n",
      "start station id             int64\n",
      "start station name          object\n",
      "start station latitude     float64\n",
      "start station longitude    float64\n",
      "end station id               int64\n",
      "end station name            object\n",
      "end station latitude       float64\n",
      "end station longitude      float64\n",
      "bikeid                       int64\n",
      "usertype                    object\n",
      "birth year                 float64\n",
      "gender                       int64\n",
      "dtype: object\n"
     ]
    }
   ],
   "source": [
    "# inspect data\n",
    "print df.isnull().sum()\n",
    "print '\\n'\n",
    "print df.shape\n",
    "print '\\n'\n",
    "print df.columns.values\n",
    "print '\\n'\n",
    "print df.dtypes"
   ]
  },
  {
   "cell_type": "code",
   "execution_count": 4,
   "metadata": {
    "collapsed": true
   },
   "outputs": [],
   "source": [
    "# read in station data\n",
    "r = requests.get('https://www.citibikenyc.com/stations/json')\n",
    "data = json.loads(r.text)"
   ]
  },
  {
   "cell_type": "code",
   "execution_count": 5,
   "metadata": {
    "collapsed": false
   },
   "outputs": [
    {
     "data": {
      "text/plain": [
       "{u'altitude': u'',\n",
       " u'availableBikes': 3,\n",
       " u'availableDocks': 36,\n",
       " u'city': u'',\n",
       " u'id': 72,\n",
       " u'landMark': u'',\n",
       " u'lastCommunicationTime': u'2015-12-28 03:03:43 PM',\n",
       " u'latitude': 40.76727216,\n",
       " u'location': u'',\n",
       " u'longitude': -73.99392888,\n",
       " u'postalCode': u'',\n",
       " u'stAddress1': u'W 52 St & 11 Ave',\n",
       " u'stAddress2': u'',\n",
       " u'stationName': u'W 52 St & 11 Ave',\n",
       " u'statusKey': 1,\n",
       " u'statusValue': u'In Service',\n",
       " u'testStation': False,\n",
       " u'totalDocks': 39}"
      ]
     },
     "execution_count": 5,
     "metadata": {},
     "output_type": "execute_result"
    }
   ],
   "source": [
    "# look at data\n",
    "data['stationBeanList'][0]"
   ]
  },
  {
   "cell_type": "code",
   "execution_count": 6,
   "metadata": {
    "collapsed": false
   },
   "outputs": [],
   "source": [
    "# create a loop to build out a dataframe\n",
    "stations = []\n",
    "station_stats = {'altitude': None,\n",
    " 'availableBikes': None,\n",
    " 'availableDocks': None,\n",
    " 'city': None,\n",
    " 'id': None,\n",
    " 'landMark': None,\n",
    " 'lastCommunicationTime': None,\n",
    " 'latitude': None,\n",
    " 'location': None,\n",
    " 'longitude': None,\n",
    " 'postalCode': None,\n",
    " 'stAddress1': None,\n",
    " 'stAddress2': None,\n",
    " 'stationName': None,\n",
    " 'statusKey': None,\n",
    " 'statusValue': None,\n",
    " 'testStation': None,\n",
    " 'totalDocks': None}\n",
    "for i in data['stationBeanList']:\n",
    "    station_stats['altitude'] = i['altitude']\n",
    "    station_stats['availableBikes'] = i['availableBikes']\n",
    "    station_stats['availableDocks'] = i['availableDocks']\n",
    "    station_stats['city'] = i['city']\n",
    "    station_stats['id'] = i['id']\n",
    "    station_stats['landMark'] = i['landMark']\n",
    "    station_stats['lastCommunicationTime'] = i['lastCommunicationTime']\n",
    "    station_stats['latitude'] = i['latitude']\n",
    "    station_stats['location'] = i['location']\n",
    "    station_stats['longitude'] = i['longitude']\n",
    "    station_stats['postalCode'] = i['postalCode']\n",
    "    station_stats['stAddress1'] = i['stAddress1']\n",
    "    station_stats['stAddress2'] = i['stAddress2']\n",
    "    station_stats['stationName'] = i['stationName']\n",
    "    station_stats['statusKey'] = i['statusKey']\n",
    "    station_stats['statusValue'] = i['statusValue']\n",
    "    station_stats['testStation'] = i['testStation']\n",
    "    station_stats['totalDocks'] = i['totalDocks']\n",
    "    stations.append(station_stats.copy())\n",
    "\n",
    "cols = ['altitude','availableBikes','availableDocks','city','id','landMark','lastCommunicationTime','latitude','longitude','postalCode','stAddress1','stAddress2','stationName','statusKey','testStation','totalDocks']\n",
    "df_stations = pd.DataFrame(stations,columns=cols)"
   ]
  },
  {
   "cell_type": "code",
   "execution_count": 7,
   "metadata": {
    "collapsed": false
   },
   "outputs": [
    {
     "data": {
      "text/plain": [
       "(506, 16)"
      ]
     },
     "execution_count": 7,
     "metadata": {},
     "output_type": "execute_result"
    }
   ],
   "source": [
    "# check shape\n",
    "df_stations.shape"
   ]
  },
  {
   "cell_type": "code",
   "execution_count": 8,
   "metadata": {
    "collapsed": false
   },
   "outputs": [],
   "source": [
    "# rename stationName column to match\n",
    "df_stations.columns = ['altitude', 'availableBikes', 'availableDocks', 'city', 'id',\n",
    "       'landMark', 'lastCommunicationTime', 'latitude', 'longitude',\n",
    "       'postalCode', 'stAddress1', 'stAddress2', 'start station name',\n",
    "       'statusKey', 'testStation', 'totalDocks']"
   ]
  },
  {
   "cell_type": "code",
   "execution_count": 9,
   "metadata": {
    "collapsed": false
   },
   "outputs": [
    {
     "data": {
      "text/plain": [
       "tripduration                    0\n",
       "starttime                       0\n",
       "stoptime                        0\n",
       "start station id                0\n",
       "start station name              0\n",
       "start station latitude          0\n",
       "start station longitude         0\n",
       "end station id                  0\n",
       "end station name                0\n",
       "end station latitude            0\n",
       "end station longitude           0\n",
       "bikeid                          0\n",
       "usertype                        0\n",
       "birth year                 130392\n",
       "gender                          0\n",
       "altitude                    26147\n",
       "availableBikes              26147\n",
       "availableDocks              26147\n",
       "city                        26147\n",
       "id                          26147\n",
       "landMark                    26147\n",
       "lastCommunicationTime       26147\n",
       "latitude                    26147\n",
       "longitude                   26147\n",
       "postalCode                  26147\n",
       "stAddress1                  26147\n",
       "stAddress2                  26147\n",
       "statusKey                   26147\n",
       "testStation                 26147\n",
       "totalDocks                  26147\n",
       "dtype: int64"
      ]
     },
     "execution_count": 9,
     "metadata": {},
     "output_type": "execute_result"
    }
   ],
   "source": [
    "# merge the two dataframes together\n",
    "df.columns.values\n",
    "df_stations.columns.values\n",
    "df_total = df.merge(df_stations,how='left',on='start station name')\n",
    "df_total.isnull().sum()"
   ]
  },
  {
   "cell_type": "code",
   "execution_count": 10,
   "metadata": {
    "collapsed": false
   },
   "outputs": [
    {
     "data": {
      "text/plain": [
       "tripduration                    0\n",
       "starttime                       0\n",
       "stoptime                        0\n",
       "start station id                0\n",
       "start station name              0\n",
       "start station latitude          0\n",
       "start station longitude         0\n",
       "end station id                  0\n",
       "end station name                0\n",
       "end station latitude            0\n",
       "end station longitude           0\n",
       "bikeid                          0\n",
       "usertype                        0\n",
       "birth year                 126688\n",
       "gender                          0\n",
       "altitude                        0\n",
       "availableBikes                  0\n",
       "availableDocks                  0\n",
       "city                            0\n",
       "id                              0\n",
       "landMark                        0\n",
       "lastCommunicationTime           0\n",
       "latitude                        0\n",
       "longitude                       0\n",
       "postalCode                      0\n",
       "stAddress1                      0\n",
       "stAddress2                      0\n",
       "statusKey                       0\n",
       "testStation                     0\n",
       "totalDocks                      0\n",
       "dtype: int64"
      ]
     },
     "execution_count": 10,
     "metadata": {},
     "output_type": "execute_result"
    }
   ],
   "source": [
    "# drop nulls\n",
    "df_total.dropna(subset=['totalDocks'],inplace=True)\n",
    "df_total.isnull().sum()"
   ]
  },
  {
   "cell_type": "code",
   "execution_count": 11,
   "metadata": {
    "collapsed": false
   },
   "outputs": [
    {
     "data": {
      "text/plain": [
       "(915072, 30)"
      ]
     },
     "execution_count": 11,
     "metadata": {},
     "output_type": "execute_result"
    }
   ],
   "source": [
    "df_total.shape"
   ]
  },
  {
   "cell_type": "code",
   "execution_count": 13,
   "metadata": {
    "collapsed": true
   },
   "outputs": [],
   "source": [
    "# create csv file\n",
    "df_total.to_csv('C:/Users/Michael/projects/capitalbikeshare/June2015CitiBike.csv')"
   ]
  },
  {
   "cell_type": "code",
   "execution_count": null,
   "metadata": {
    "collapsed": true
   },
   "outputs": [],
   "source": []
  },
  {
   "cell_type": "code",
   "execution_count": null,
   "metadata": {
    "collapsed": true
   },
   "outputs": [],
   "source": []
  },
  {
   "cell_type": "code",
   "execution_count": null,
   "metadata": {
    "collapsed": true
   },
   "outputs": [],
   "source": []
  },
  {
   "cell_type": "code",
   "execution_count": null,
   "metadata": {
    "collapsed": true
   },
   "outputs": [],
   "source": []
  }
 ],
 "metadata": {
  "kernelspec": {
   "display_name": "Python 2",
   "language": "python",
   "name": "python2"
  },
  "language_info": {
   "codemirror_mode": {
    "name": "ipython",
    "version": 2
   },
   "file_extension": ".py",
   "mimetype": "text/x-python",
   "name": "python",
   "nbconvert_exporter": "python",
   "pygments_lexer": "ipython2",
   "version": "2.7.10"
  }
 },
 "nbformat": 4,
 "nbformat_minor": 0
}
