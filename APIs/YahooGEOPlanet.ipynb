{
 "cells": [
  {
   "cell_type": "code",
   "execution_count": 1,
   "metadata": {
    "collapsed": true
   },
   "outputs": [],
   "source": [
    "# lookup different locale ids using yahoo's geoplanet\n",
    "# where on earth API\n",
    "\n",
    "# API documentation: https://developer.yahoo.com/geo/geoplanet/\n",
    "\n",
    "# set up a function to lookup locale ids\n",
    "\n",
    "import requests\n",
    "import json\n",
    "\n",
    "YAHOO_ID = 'dj0yJmk9Y01sNXhQbWlGMjJnJmQ9WVdrOWJXUnRRVkZKTm5FbWNHbzlNQS0tJnM9Y29uc3VtZXJzZWNyZXQmeD0wYw--'\n",
    "\n",
    "def getWOEID(location):\n",
    "    \n",
    "    if not location:\n",
    "        return 'nolocation'\n",
    "    \n",
    "    url = 'http://where.yahooapis.com/v1/places.q(\"%s\")?appid=%s&format=json' % (location, YAHOO_ID)\n",
    "    r = requests.get(url)\n",
    "    json = r.json()\n",
    "\n",
    "    places = json['places']\n",
    "    if not places['count']:\n",
    "        return 'noplaces'\n",
    "    \n",
    "    place = places['place'][0]\n",
    "    return place['woeid']    "
   ]
  },
  {
   "cell_type": "code",
   "execution_count": 2,
   "metadata": {
    "collapsed": false
   },
   "outputs": [
    {
     "name": "stdout",
     "output_type": "stream",
     "text": [
      "2487889\n",
      "2514815\n"
     ]
    }
   ],
   "source": [
    "# examples of using function\n",
    "print getWOEID('san diego')\n",
    "print getWOEID('washington DC')\n",
    "\n",
    "# this API can be combined with other API to create to search\n",
    "# through different locations (such as with twitter)"
   ]
  },
  {
   "cell_type": "code",
   "execution_count": null,
   "metadata": {
    "collapsed": false
   },
   "outputs": [],
   "source": []
  },
  {
   "cell_type": "code",
   "execution_count": null,
   "metadata": {
    "collapsed": true
   },
   "outputs": [],
   "source": []
  }
 ],
 "metadata": {
  "kernelspec": {
   "display_name": "Python 2",
   "language": "python",
   "name": "python2"
  },
  "language_info": {
   "codemirror_mode": {
    "name": "ipython",
    "version": 2
   },
   "file_extension": ".py",
   "mimetype": "text/x-python",
   "name": "python",
   "nbconvert_exporter": "python",
   "pygments_lexer": "ipython2",
   "version": "2.7.10"
  }
 },
 "nbformat": 4,
 "nbformat_minor": 0
}
