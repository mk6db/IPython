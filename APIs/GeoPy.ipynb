{
 "cells": [
  {
   "cell_type": "code",
   "execution_count": 3,
   "metadata": {
    "collapsed": false
   },
   "outputs": [
    {
     "name": "stdout",
     "output_type": "stream",
     "text": [
      "1719, Pinnacle Road, West Elmira, Chemung County, New York, 14905, United States of America\n",
      "(42.0889446363636, -76.8545900909091)\n",
      "{u'display_name': u'1719, Pinnacle Road, West Elmira, Chemung County, New York, 14905, United States of America', u'importance': 0.301, u'place_id': u'1628533850', u'lon': u'-76.8545900909091', u'lat': u'42.0889446363636', u'licence': u'Data \\xa9 OpenStreetMap contributors, ODbL 1.0. http://www.openstreetmap.org/copyright', u'boundingbox': [u'42.088894636364', u'42.088994636364', u'-76.854640090909', u'-76.854540090909'], u'type': u'house', u'class': u'place'}\n"
     ]
    }
   ],
   "source": [
    "# GeoPy is client for several popular geocoding webservices\n",
    "# GeoPy Documentation: https://geopy.readthedocs.org/en/1.11.0/\n",
    "\n",
    "# to geolocate a query to an address and coordinates\n",
    "\n",
    "# Nominatim is sourced from OpenStreetMap servers: https://wiki.openstreetmap.org/wiki/Nominatim\n",
    "from geopy.geocoders import Nominatim\n",
    "geolocator = Nominatim()\n",
    "location = geolocator.geocode(\"1719 Pinnacle Road Elmira\")\n",
    "print location.address\n",
    "print (location.latitude, location.longitude)\n",
    "print location.raw"
   ]
  },
  {
   "cell_type": "code",
   "execution_count": 4,
   "metadata": {
    "collapsed": false
   },
   "outputs": [
    {
     "name": "stdout",
     "output_type": "stream",
     "text": [
      "1719, Pinnacle Road, West Elmira, Chemung County, New York, 14905, United States of America\n",
      "(42.0889446363636, -76.8545900909091)\n",
      "{u'display_name': u'1719, Pinnacle Road, West Elmira, Chemung County, New York, 14905, United States of America', u'place_id': u'1628533850', u'lon': u'-76.8545900909091', u'licence': u'Data \\xa9 OpenStreetMap contributors, ODbL 1.0. http://www.openstreetmap.org/copyright', u'address': {u'locality': u'West Elmira', u'house_number': u'1719', u'country': u'United States of America', u'county': u'Chemung County', u'state': u'New York', u'postcode': u'14905', u'country_code': u'us', u'road': u'Pinnacle Road'}, u'lat': u'42.0889446363636'}\n"
     ]
    }
   ],
   "source": [
    "# to find an address corresponding to a set of coordinates\n",
    "geolocator = Nominatim()\n",
    "location = geolocator.reverse(\"42.0889446363636, -76.8545900909091\")\n",
    "print location.address\n",
    "print (location.latitude, location.longitude)\n",
    "print location.raw"
   ]
  },
  {
   "cell_type": "code",
   "execution_count": 18,
   "metadata": {
    "collapsed": false
   },
   "outputs": [
    {
     "name": "stdout",
     "output_type": "stream",
     "text": [
      "37, Pinnacle Road, Harvard, Worcester County, Massachusetts, 01451, United States of America\n",
      "\n",
      "Pinnacle Road, Erving, Franklin County, Massachusetts, 01380, United States of America\n",
      "\n",
      "405, Pinnacle Road, Clarks Corner, Waldo County, Maine, 04949, United States of America\n",
      "\n",
      "267, The Pinnacle Road, Canaan, Somerset County, Maine, 04924, United States of America\n",
      "\n",
      "Pinnacle Road, QLD, Australia\n",
      "\n",
      "Pinnacle Road, QLD, Australia\n",
      "\n",
      "Westridge Road, Berkey's Corner, North Cowichan, Cowichan Valley Regional District, British Columbia, Canada\n",
      "\n",
      "498, Pinnacle Road, Newark, Caledonia County, Vermont, 05871, United States of America\n",
      "\n",
      "298, Pinnacle Road, Randolph, Orange County, Vermont, 05060, United States of America\n",
      "\n",
      "262, Pinnacle Road, Haverhill, Grafton County, New Hampshire, 03774, United States of America\n",
      "\n"
     ]
    }
   ],
   "source": [
    "# to return a list of coordinates based on a search and then flip them out as addresses\n",
    "geolocator = Nominatim()\n",
    "location = geolocator.geocode(\"1719 Pinnacle Road\", exactly_one=False) # returns a list\n",
    "for i in range(len(location)):\n",
    "    address = geolocator.reverse(str(location[i].latitude) + ',' + str(location[i].longitude))\n",
    "    print address\n",
    "    print"
   ]
  },
  {
   "cell_type": "code",
   "execution_count": 22,
   "metadata": {
    "collapsed": false
   },
   "outputs": [
    {
     "name": "stdout",
     "output_type": "stream",
     "text": [
      "1719 Pinnacles Rd, Quesnel, BC\n",
      "(52.9913222, -122.5426611)\n",
      "{u'locationDescriptor': u'accessPoint', u'siteName': u'', u'fullAddress': u'1719 Pinnacles Rd, Quesnel, BC', u'isStreetDirectionPrefix': u'', u'unitDesignator': u'', u'siteStatus': u'', u'localityName': u'Quesnel', u'streetDirection': u'', u'streetQualifier': u'', u'localityType': u'City', u'changeDate': u'', u'fullSiteDescriptor': u'', u'score': 53, u'siteRetireDate': u'', u'isPrimary': True, u'unitNumberSuffix': u'', u'blockID': 227334, u'faults': [{u'penalty': 33, u'fault': u'notAllowed', u'element': u'UNRECOGNIZED'}, {u'penalty': 2, u'fault': u'spelledWrong', u'element': u'STREET_NAME'}, {u'penalty': 10, u'fault': u'missing', u'element': u'LOCALITY'}, {u'penalty': 1, u'fault': u'missing', u'element': u'PROVINCE'}], u'isStreetTypePrefix': u'false', u'narrativeLocation': u'', u'matchPrecision': u'BLOCK', u'unitNumber': u'', u'accessNotes': u'', u'streetName': u'Pinnacles', u'streetType': u'Rd', u'provinceCode': u'BC', u'locationPositionalAccuracy': u'low', u'precisionPoints': 99, u'civicNumberSuffix': u'', u'siteID': u'', u'civicNumber': 1719}\n"
     ]
    }
   ],
   "source": [
    "# you can use other map services with geocoder\n",
    "# such as databc\n",
    "from geopy.geocoders import DataBC\n",
    "geolocator = DataBC()\n",
    "location = geolocator.geocode(\"1719 Pinnacle Road Elmira\")\n",
    "print location.address\n",
    "print (location.latitude, location.longitude)\n",
    "print location.raw\n"
   ]
  },
  {
   "cell_type": "code",
   "execution_count": null,
   "metadata": {
    "collapsed": true
   },
   "outputs": [],
   "source": []
  }
 ],
 "metadata": {
  "kernelspec": {
   "display_name": "Python 2",
   "language": "python",
   "name": "python2"
  },
  "language_info": {
   "codemirror_mode": {
    "name": "ipython",
    "version": 2
   },
   "file_extension": ".py",
   "mimetype": "text/x-python",
   "name": "python",
   "nbconvert_exporter": "python",
   "pygments_lexer": "ipython2",
   "version": "2.7.10"
  }
 },
 "nbformat": 4,
 "nbformat_minor": 0
}
