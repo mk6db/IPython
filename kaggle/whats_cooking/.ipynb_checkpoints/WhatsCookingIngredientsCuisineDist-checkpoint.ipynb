{
 "cells": [
  {
   "cell_type": "code",
   "execution_count": 3,
   "metadata": {
    "collapsed": false
   },
   "outputs": [],
   "source": [
    "# what's cooking kaggle competition\n",
    "# https://www.kaggle.com/c/whats-cooking/data?sample_submission.csv.zip\n",
    "# imports\n",
    "import pandas as pd\n",
    "import numpy as np\n",
    "import matplotlib.pyplot as plt\n",
    "import json\n",
    "\n",
    "%matplotlib inline"
   ]
  },
  {
   "cell_type": "code",
   "execution_count": 29,
   "metadata": {
    "collapsed": false
   },
   "outputs": [],
   "source": [
    "# two ways to read in data\n",
    "train_file = 'C:/Users/Michael/projects/kaggle/whats_cooking/train.json'\n",
    "with open(train_file) as train_f:\n",
    "    train_data = json.loads(train_f.read())\n",
    "traindf = pd.read_json(train_file)"
   ]
  },
  {
   "cell_type": "code",
   "execution_count": 31,
   "metadata": {
    "collapsed": false
   },
   "outputs": [
    {
     "data": {
      "text/html": [
       "<div>\n",
       "<table border=\"1\" class=\"dataframe\">\n",
       "  <thead>\n",
       "    <tr style=\"text-align: right;\">\n",
       "      <th></th>\n",
       "      <th>cuisine</th>\n",
       "      <th>id</th>\n",
       "      <th>ingredients</th>\n",
       "    </tr>\n",
       "  </thead>\n",
       "  <tbody>\n",
       "    <tr>\n",
       "      <th>0</th>\n",
       "      <td>greek</td>\n",
       "      <td>10259</td>\n",
       "      <td>[romaine lettuce, black olives, grape tomatoes...</td>\n",
       "    </tr>\n",
       "    <tr>\n",
       "      <th>1</th>\n",
       "      <td>southern_us</td>\n",
       "      <td>25693</td>\n",
       "      <td>[plain flour, ground pepper, salt, tomatoes, g...</td>\n",
       "    </tr>\n",
       "    <tr>\n",
       "      <th>2</th>\n",
       "      <td>filipino</td>\n",
       "      <td>20130</td>\n",
       "      <td>[eggs, pepper, salt, mayonaise, cooking oil, g...</td>\n",
       "    </tr>\n",
       "    <tr>\n",
       "      <th>3</th>\n",
       "      <td>indian</td>\n",
       "      <td>22213</td>\n",
       "      <td>[water, vegetable oil, wheat, salt]</td>\n",
       "    </tr>\n",
       "    <tr>\n",
       "      <th>4</th>\n",
       "      <td>indian</td>\n",
       "      <td>13162</td>\n",
       "      <td>[black pepper, shallots, cornflour, cayenne pe...</td>\n",
       "    </tr>\n",
       "  </tbody>\n",
       "</table>\n",
       "</div>"
      ],
      "text/plain": [
       "       cuisine     id                                        ingredients\n",
       "0        greek  10259  [romaine lettuce, black olives, grape tomatoes...\n",
       "1  southern_us  25693  [plain flour, ground pepper, salt, tomatoes, g...\n",
       "2     filipino  20130  [eggs, pepper, salt, mayonaise, cooking oil, g...\n",
       "3       indian  22213                [water, vegetable oil, wheat, salt]\n",
       "4       indian  13162  [black pepper, shallots, cornflour, cayenne pe..."
      ]
     },
     "execution_count": 31,
     "metadata": {},
     "output_type": "execute_result"
    }
   ],
   "source": [
    "# look at dataframe\n",
    "traindf.head()"
   ]
  },
  {
   "cell_type": "code",
   "execution_count": 58,
   "metadata": {
    "collapsed": false
   },
   "outputs": [
    {
     "data": {
      "text/plain": [
       "['romaine lettuce',\n",
       " 'black olives',\n",
       " 'grape tomatoes',\n",
       " 'garlic',\n",
       " 'pepper',\n",
       " 'purple onion',\n",
       " 'seasoning',\n",
       " 'garbanzo beans',\n",
       " 'feta cheese crumbles',\n",
       " 'plain flour',\n",
       " 'ground pepper',\n",
       " 'salt',\n",
       " 'tomatoes',\n",
       " 'ground black pepper',\n",
       " 'thyme',\n",
       " 'eggs',\n",
       " 'green tomatoes',\n",
       " 'yellow corn meal',\n",
       " 'milk',\n",
       " 'vegetable oil',\n",
       " 'mayonaise',\n",
       " 'cooking oil',\n",
       " 'green chilies',\n",
       " 'grilled chicken breasts',\n",
       " 'garlic powder',\n",
       " 'yellow onion',\n",
       " 'soy sauce',\n",
       " 'butter',\n",
       " 'chicken livers',\n",
       " 'water',\n",
       " 'wheat',\n",
       " 'black pepper',\n",
       " 'shallots',\n",
       " 'cornflour',\n",
       " 'cayenne pepper',\n",
       " 'onions',\n",
       " 'garlic paste',\n",
       " 'lemon juice',\n",
       " 'chili powder',\n",
       " 'passata',\n",
       " 'oil',\n",
       " 'ground cumin',\n",
       " 'boneless chicken skinless thigh',\n",
       " 'garam masala',\n",
       " 'double cream',\n",
       " 'natural yogurt',\n",
       " 'bay leaf']"
      ]
     },
     "execution_count": 58,
     "metadata": {},
     "output_type": "execute_result"
    }
   ],
   "source": [
    "ingredients_list = []\n",
    "for i in range(len(traindf.ingredients[0:5])):\n",
    "    for j in range(len(traindf.ingredients[i])):\n",
    "        if traindf.ingredients[i][j] not in ingredients_list:\n",
    "            ingredients_list.append(traindf.ingredients[i][j].encode('ascii','ignore'))\n",
    "ingredients_list"
   ]
  },
  {
   "cell_type": "code",
   "execution_count": null,
   "metadata": {
    "collapsed": true
   },
   "outputs": [],
   "source": []
  }
 ],
 "metadata": {
  "kernelspec": {
   "display_name": "Python 2",
   "language": "python",
   "name": "python2"
  },
  "language_info": {
   "codemirror_mode": {
    "name": "ipython",
    "version": 2
   },
   "file_extension": ".py",
   "mimetype": "text/x-python",
   "name": "python",
   "nbconvert_exporter": "python",
   "pygments_lexer": "ipython2",
   "version": "2.7.10"
  }
 },
 "nbformat": 4,
 "nbformat_minor": 0
}
