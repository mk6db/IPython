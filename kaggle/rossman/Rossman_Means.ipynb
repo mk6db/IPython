{
 "cells": [
  {
   "cell_type": "code",
   "execution_count": 1,
   "metadata": {
    "collapsed": true
   },
   "outputs": [],
   "source": [
    "# import pandas\n",
    "import pandas as pd"
   ]
  },
  {
   "cell_type": "code",
   "execution_count": 2,
   "metadata": {
    "collapsed": true
   },
   "outputs": [],
   "source": [
    "# set up folder link\n",
    "folder_link = 'C:/Users/Michael/projects/kaggle/rossman/'"
   ]
  },
  {
   "cell_type": "code",
   "execution_count": 3,
   "metadata": {
    "collapsed": false
   },
   "outputs": [
    {
     "name": "stderr",
     "output_type": "stream",
     "text": [
      "C:\\Users\\Michael\\Anaconda\\lib\\site-packages\\pandas\\io\\parsers.py:1170: DtypeWarning: Columns (7) have mixed types. Specify dtype option on import or set low_memory=False.\n",
      "  data = self._reader.read(nrows)\n"
     ]
    }
   ],
   "source": [
    "# create dataframes\n",
    "train = pd.read_csv(folder_link + 'train.csv')\n",
    "test = pd.read_csv(folder_link + 'test.csv')"
   ]
  },
  {
   "cell_type": "code",
   "execution_count": 9,
   "metadata": {
    "collapsed": false
   },
   "outputs": [],
   "source": [
    "# remove closed stores from training data\n",
    "train = train.loc[train.Sales > 0]"
   ]
  },
  {
   "cell_type": "code",
   "execution_count": 13,
   "metadata": {
    "collapsed": false
   },
   "outputs": [],
   "source": [
    "# remove NANs from test data\n",
    "test.loc[test.Open.isnull(),'Open'] = 1"
   ]
  },
  {
   "cell_type": "code",
   "execution_count": 80,
   "metadata": {
    "collapsed": false
   },
   "outputs": [],
   "source": [
    "# group by store day of week open promo state holiday school holiday and reset index\n",
    "means1 = train.groupby(['Store','DayOfWeek','Open','Promo','StateHoliday','SchoolHoliday']).Sales.mean()\n",
    "means1 = means1.reset_index()\n",
    "\n",
    "means2 = train.groupby(['Store','DayOfWeek','Open','Promo','StateHoliday']).Sales.mean()\n",
    "means2 = means2.reset_index()\n",
    "\n",
    "means3 = train.groupby(['Store','DayOfWeek','Open','Promo']).Sales.mean()\n",
    "means3 = means3.reset_index()\n",
    "\n",
    "means4 = train.groupby(['Store','DayOfWeek','Open']).Sales.mean()\n",
    "means4 = means4.reset_index()"
   ]
  },
  {
   "cell_type": "code",
   "execution_count": 85,
   "metadata": {
    "collapsed": false
   },
   "outputs": [],
   "source": [
    "# merge dataframes\n",
    "test_output1 = pd.merge(test, means1, on = ['Store','DayOfWeek','Open','Promo','StateHoliday','SchoolHoliday'],how='left')\n",
    "test_output2 = pd.merge(test, means2, on = ['Store','DayOfWeek','Open','Promo','StateHoliday'],how='left')\n",
    "test_output3 = pd.merge(test, means3, on = ['Store','DayOfWeek','Open','Promo'],how='left')\n",
    "test_output4 = pd.merge(test, means4, on = ['Store','DayOfWeek','Open'],how='left')"
   ]
  },
  {
   "cell_type": "code",
   "execution_count": 86,
   "metadata": {
    "collapsed": false
   },
   "outputs": [],
   "source": [
    "# zero out sales for closed stores\n",
    "test_output1.loc[test_output1.Open == 0,'Sales'] = 0"
   ]
  },
  {
   "cell_type": "code",
   "execution_count": 87,
   "metadata": {
    "collapsed": false
   },
   "outputs": [],
   "source": [
    "# update null values\n",
    "test_output1.loc[test_output1.Sales.isnull(),'Sales'] = test_output2.loc[test_output1.Sales.isnull(),'Sales']\n",
    "test_output1.loc[test_output1.Sales.isnull(),'Sales'] = test_output3.loc[test_output1.Sales.isnull(),'Sales']\n",
    "test_output1.loc[test_output1.Sales.isnull(),'Sales'] = test_output4.loc[test_output1.Sales.isnull(),'Sales']"
   ]
  },
  {
   "cell_type": "code",
   "execution_count": 88,
   "metadata": {
    "collapsed": false
   },
   "outputs": [
    {
     "data": {
      "text/plain": [
       "Id               0\n",
       "Store            0\n",
       "DayOfWeek        0\n",
       "Date             0\n",
       "Open             0\n",
       "Promo            0\n",
       "StateHoliday     0\n",
       "SchoolHoliday    0\n",
       "Sales            0\n",
       "dtype: int64"
      ]
     },
     "execution_count": 88,
     "metadata": {},
     "output_type": "execute_result"
    }
   ],
   "source": [
    "# check for nulls\n",
    "test_output1.isnull().sum()"
   ]
  },
  {
   "cell_type": "code",
   "execution_count": 90,
   "metadata": {
    "collapsed": true
   },
   "outputs": [],
   "source": [
    "# output to csv file\n",
    "test_output1[['Id','Sales']].to_csv(folder_link + 'predictions_means.csv',index=False)"
   ]
  },
  {
   "cell_type": "code",
   "execution_count": null,
   "metadata": {
    "collapsed": true
   },
   "outputs": [],
   "source": []
  }
 ],
 "metadata": {
  "kernelspec": {
   "display_name": "Python 2",
   "language": "python",
   "name": "python2"
  },
  "language_info": {
   "codemirror_mode": {
    "name": "ipython",
    "version": 2
   },
   "file_extension": ".py",
   "mimetype": "text/x-python",
   "name": "python",
   "nbconvert_exporter": "python",
   "pygments_lexer": "ipython2",
   "version": "2.7.10"
  }
 },
 "nbformat": 4,
 "nbformat_minor": 0
}
