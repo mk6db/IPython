{
 "cells": [
  {
   "cell_type": "code",
   "execution_count": 3,
   "metadata": {
    "collapsed": true
   },
   "outputs": [],
   "source": [
    "# read in imports\n",
    "import pandas as pd\n",
    "from sklearn.tree import DecisionTreeRegressor\n",
    "import numpy as np\n",
    "%matplotlib inline\n",
    "import matplotlib.pyplot as plt\n",
    "from sklearn.cross_validation import cross_val_score"
   ]
  },
  {
   "cell_type": "code",
   "execution_count": 4,
   "metadata": {
    "collapsed": true
   },
   "outputs": [],
   "source": [
    "# set up folder link and files\n",
    "folder_link = 'C:/Users/Michael/projects/kaggle/rossman/'\n",
    "\n",
    "train_file = folder_link + 'train.csv'\n",
    "test_file = folder_link + 'test.csv'\n",
    "submission_file = folder_link + 'predictions_Ensemble.csv'\n",
    "store_file = folder_link + 'store.csv'"
   ]
  },
  {
   "cell_type": "code",
   "execution_count": 5,
   "metadata": {
    "collapsed": false
   },
   "outputs": [
    {
     "name": "stderr",
     "output_type": "stream",
     "text": [
      "C:\\Users\\Michael\\Anaconda\\lib\\site-packages\\pandas\\io\\parsers.py:1170: DtypeWarning: Columns (7) have mixed types. Specify dtype option on import or set low_memory=False.\n",
      "  data = self._reader.read(nrows)\n"
     ]
    }
   ],
   "source": [
    "# set up dataframes\n",
    "train = pd.read_csv(train_file)\n",
    "test = pd.read_csv(test_file)\n",
    "store = pd.read_csv(store_file)"
   ]
  },
  {
   "cell_type": "code",
   "execution_count": 6,
   "metadata": {
    "collapsed": true
   },
   "outputs": [],
   "source": [
    "# merge train and store data\n",
    "train1 = train\n",
    "\n",
    "# change state holiday to numeric\n",
    "train1.StateHoliday = train1.StateHoliday.map({0:0,'0':1,'a':2,'b':3,'c':4})\n",
    "train1.StateHoliday = train1.StateHoliday.astype(int)"
   ]
  },
  {
   "cell_type": "code",
   "execution_count": 73,
   "metadata": {
    "collapsed": false
   },
   "outputs": [],
   "source": [
    "# create features and response\n",
    "feature_cols = ['DayOfWeek','Store','Open','Promo','StateHoliday','SchoolHoliday']\n",
    "train2 = train1.sample(n=1000)\n",
    "X = train2[feature_cols]\n",
    "y = train2[['Sales','Open']]"
   ]
  },
  {
   "cell_type": "code",
   "execution_count": 8,
   "metadata": {
    "collapsed": false
   },
   "outputs": [],
   "source": [
    "# create three samples\n",
    "n_rows = X.shape[0]\n",
    "\n",
    "# set a seed for reproducibility\n",
    "np.random.seed(1234)\n",
    "\n",
    "#create three bootstrap samples\n",
    "sample1 = np.random.choice(a=n_rows,size=n_rows,replace=True)\n",
    "sample2 = np.random.choice(a=n_rows,size=n_rows,replace=True)\n",
    "sample3 = np.random.choice(a=n_rows,size=n_rows,replace=True)"
   ]
  },
  {
   "cell_type": "code",
   "execution_count": 38,
   "metadata": {
    "collapsed": false
   },
   "outputs": [
    {
     "data": {
      "text/plain": [
       "array([815, 723, 294,  53, 204, 372, 664, 655, 689, 279, 233, 154,  30,\n",
       "       683, 158, 748, 892, 794, 374, 442, 120, 880, 476, 325, 336, 969,\n",
       "       383, 246, 510, 431, 562, 752, 763,  76, 293, 802, 934, 506, 195,\n",
       "       743, 139, 640, 745, 843, 336,   3, 258, 275, 908, 961, 459, 371,\n",
       "       619, 465,  14, 243, 455, 828, 490, 619, 942, 924,  81, 855, 781,\n",
       "       116, 608, 908, 197, 625, 991, 997, 671, 761, 601,  84,  45, 528,\n",
       "        41, 840, 440, 236, 838, 952,  86, 940, 986, 979, 303, 689,  18,\n",
       "       597, 686, 482, 805, 365, 806, 135, 996, 707, 901, 750, 559, 244,\n",
       "       374, 687, 911, 546,  10, 284,   4,  82, 103, 345, 311, 235, 334,\n",
       "       663, 434, 761, 574, 183, 340, 617, 256, 633, 354, 761, 346, 417,\n",
       "       882, 377, 497, 789, 967, 196, 119, 999, 465, 250, 436, 448, 469,\n",
       "       372, 873, 626, 425,   1, 142, 771, 798, 396, 713, 877, 787,  26,\n",
       "       992,  68, 891, 996, 832, 150, 440, 980, 136, 684, 753, 920, 990,\n",
       "       745, 527, 840, 898, 400, 619, 130, 754, 591, 195,  46, 482, 825,\n",
       "       439, 292, 600, 673, 377, 682, 514, 471, 365, 212, 291, 786, 332,\n",
       "       965, 117, 593, 208, 520, 493,  75,  15, 788, 784, 448, 573, 881,\n",
       "       864, 638, 211, 313, 561, 318, 953, 211, 667, 343, 233, 931, 164,\n",
       "       596, 317, 540, 257, 779, 702, 509, 657, 286, 806,  98, 921, 568,\n",
       "       487, 408,  12, 460, 864, 520, 303, 855, 793, 749, 789, 150, 429,\n",
       "       531,  41, 431, 932, 999, 551, 913, 295, 955, 210, 379, 165,  98,\n",
       "        87, 550, 904, 694, 657, 553, 303, 659, 939, 940, 547, 938, 404,\n",
       "       794, 345, 107, 919, 642, 744, 577, 729, 283, 974, 580, 987, 316,\n",
       "       874, 259, 209, 687, 957, 447,  32, 887, 909, 312,  48, 617, 314,\n",
       "       350, 931, 953, 316, 595, 505, 368, 757, 649, 572, 178, 819, 433,\n",
       "       106, 711, 721, 260,   3, 127, 600, 558, 606, 509, 431, 575,  84,\n",
       "         5, 723, 380, 584, 840, 447, 696, 526, 337, 739, 316, 358, 264,\n",
       "        41, 673, 837, 728, 575, 877, 628, 785, 513,   1, 130, 691, 333,\n",
       "       692, 114, 861, 654, 237, 943, 203, 193, 669, 521, 608, 336, 946,\n",
       "       785,  31, 508, 863, 381, 970, 494, 907, 418, 565, 857, 472, 920,\n",
       "       478, 991, 439, 565,  23, 383, 186, 224, 784, 758, 774, 465, 462,\n",
       "       953, 132, 814, 459, 390, 727, 402, 944, 935, 144, 994, 584, 174,\n",
       "       564, 424, 243, 941, 770, 700, 788, 615, 471, 458, 507, 844, 826,\n",
       "       384, 554, 913, 177,  16, 944,  80, 849, 460, 863, 191, 561, 527,\n",
       "       665, 468, 873, 409, 325, 306, 110, 655, 852, 717,  46, 763, 529,\n",
       "       896, 707, 677,  82, 542, 666, 316, 943, 963, 435, 933, 900, 549,\n",
       "       506, 875, 292, 592, 517, 822, 759, 730, 191, 211, 844, 140, 545,\n",
       "        85, 388, 101, 617, 433, 814, 695, 102, 611, 787, 943, 364, 252,\n",
       "       810, 304, 763, 364,  90, 432,   2,  35,  46, 161, 508,  38, 737,\n",
       "       707, 430, 826, 933, 454, 162, 374, 198, 809, 922,  10, 855, 280,\n",
       "       457, 524, 700, 257, 861, 179, 758, 134,  18, 946, 429, 548, 634,\n",
       "       857, 627, 814,  43, 973, 744,  55, 917, 542, 462,  97, 698, 381,\n",
       "       291, 465, 563, 560, 734, 478, 898, 429, 575,   0, 223,  19, 517,\n",
       "       674, 922, 399, 134, 575, 635, 358, 102, 468, 657, 848, 343, 212,\n",
       "       810,  26, 731, 481, 888, 606, 213, 238,  25, 172, 653, 557, 182,\n",
       "       715, 306, 862, 300,  88,  74, 332, 407, 105, 138, 599, 893, 567,\n",
       "       828, 211,  15, 926, 710, 549, 566, 715,  79, 568,   6, 309, 457,\n",
       "       865, 745, 434,  74, 705, 302, 321, 261, 464, 130, 835, 447, 936,\n",
       "       152, 129, 253, 451, 231,   3, 621, 229, 510, 961, 997, 970, 620,\n",
       "       534, 857, 251, 269, 565, 303, 960, 268,  81, 531,  53, 861, 360,\n",
       "        41, 217, 215, 184, 136, 249, 526, 756, 260, 988, 289,  53, 654,\n",
       "       475, 299, 796,  68, 710, 714, 856, 747, 263, 233, 559,  84, 383,\n",
       "       284, 273, 701, 391, 695, 448, 751, 884,  31, 886, 698, 561, 251,\n",
       "       745, 476, 539, 353, 798,  43, 961, 729, 816, 792, 737,  15,   3,\n",
       "        26, 583, 338, 872, 943, 893, 847, 451, 562, 236, 370, 179, 692,\n",
       "       177, 998, 941,  43, 707, 891, 623, 618, 773,  91, 254, 546, 332,\n",
       "       820, 594, 193, 947, 185, 327, 825, 983, 274, 773, 151, 781,  59,\n",
       "       974, 666, 863, 661, 296, 997, 528, 372, 144, 249, 835, 609, 223,\n",
       "       720, 144, 604, 430, 502, 333, 452, 211, 532, 635, 751, 762, 747,\n",
       "       321, 184,  54, 168, 647, 529,  79, 629, 939, 173, 877, 295, 569,\n",
       "        13, 897, 591, 748, 629, 390, 379, 149, 625, 966, 416, 249, 242,\n",
       "       732, 994, 812, 625, 676, 473,  46, 761, 182, 790,  98, 996,  49,\n",
       "       846, 101, 236, 693, 773, 840, 830, 694, 663, 722, 766, 702, 803,\n",
       "       841, 958, 759,  50,  81, 817, 473, 342, 229, 651, 971, 569, 962,\n",
       "       545, 883, 989, 349,  79, 744, 603, 115, 776, 599, 979, 712, 991,\n",
       "       368, 874, 437, 560,  77, 777, 393, 615, 571, 890,  52, 525, 517,\n",
       "        86, 461, 654, 947, 568, 331, 897, 679, 708, 209, 733, 526, 748,\n",
       "       153, 242, 607, 596, 323, 883,  73, 974, 420, 619, 619,  28, 843,\n",
       "       882, 575, 502, 639, 912, 693,  75,  20,  22, 614, 182, 195, 968,\n",
       "       186,  59, 568, 252, 712, 269,  37, 391, 393, 713,  64, 231, 392,\n",
       "        36,  14, 476, 325, 759, 309, 121, 722, 318, 157,  70, 323, 960,\n",
       "       344, 145, 342,  26, 158, 816, 403, 903, 250, 298, 203, 170, 213,\n",
       "       730,  12,  96, 968, 491, 364, 665, 216, 741, 859, 699, 459, 751,\n",
       "       945, 635, 474, 511, 489, 556, 692, 683, 886, 238, 194, 278,  19,\n",
       "       138, 371, 983, 819, 139, 511, 530, 200, 597, 194, 276,  10, 189,\n",
       "         8, 752, 341, 834, 659,  47, 781, 967, 578, 534, 220, 977, 514,\n",
       "       852, 602, 941, 157, 455, 306, 893, 763, 355, 101, 187, 138, 408,\n",
       "       612, 307, 581, 152, 496, 645, 163, 421, 813, 451, 901, 822])"
      ]
     },
     "execution_count": 38,
     "metadata": {},
     "output_type": "execute_result"
    }
   ],
   "source": [
    "sample1"
   ]
  },
  {
   "cell_type": "code",
   "execution_count": 9,
   "metadata": {
    "collapsed": true
   },
   "outputs": [],
   "source": [
    "# remove NANs from test\n",
    "test.loc[test.Open.isnull(),'Open'] = 1\n",
    "test.loc[test.StateHoliday.isnull(),'StateHoliday'] = 0\n",
    "test.StateHoliday = test.StateHoliday.map({0:0,'0':1,'a':2,'b':3,'c':4})\n",
    "test.StateHoliday = test.StateHoliday.astype(int)"
   ]
  },
  {
   "cell_type": "code",
   "execution_count": 91,
   "metadata": {
    "collapsed": false,
    "scrolled": true
   },
   "outputs": [
    {
     "data": {
      "text/plain": [
       "225206        0\n",
       "800012        0\n",
       "577561     2650\n",
       "66146     13449\n",
       "659990        0\n",
       "505430     5834\n",
       "274548     4449\n",
       "642053    10992\n",
       "642927    18862\n",
       "537315     5752\n",
       "688263     4146\n",
       "756850     5128\n",
       "172575     6645\n",
       "527078        0\n",
       "786442     3949\n",
       "376981        0\n",
       "26808      5594\n",
       "641586     7959\n",
       "920424     6833\n",
       "883805    14959\n",
       "117996     9212\n",
       "197150     9687\n",
       "796239     5796\n",
       "14483         0\n",
       "512750     4739\n",
       "448224     5513\n",
       "959881     6878\n",
       "32822      3621\n",
       "855420        0\n",
       "875408     5350\n",
       "          ...  \n",
       "575680     8524\n",
       "260067     5235\n",
       "67111      7022\n",
       "933772     4629\n",
       "34108      8151\n",
       "540212     8847\n",
       "480605        0\n",
       "594137     4820\n",
       "7390       5933\n",
       "113265     5885\n",
       "233423     7893\n",
       "578843     5639\n",
       "837699     4745\n",
       "554766     4901\n",
       "177915        0\n",
       "97065      4881\n",
       "89276      5726\n",
       "769444        0\n",
       "853351     9043\n",
       "767353    11018\n",
       "888224     8792\n",
       "707313     4717\n",
       "360063     6244\n",
       "583456     7537\n",
       "980356        0\n",
       "872368     6914\n",
       "896098     4590\n",
       "363663        0\n",
       "91669         0\n",
       "129826        0\n",
       "Name: Sales, dtype: int64"
      ]
     },
     "execution_count": 91,
     "metadata": {},
     "output_type": "execute_result"
    }
   ],
   "source": [
    "# sample\n",
    "y.iloc[sample1,0]"
   ]
  },
  {
   "cell_type": "code",
   "execution_count": 92,
   "metadata": {
    "collapsed": false
   },
   "outputs": [
    {
     "data": {
      "text/plain": [
       "DecisionTreeRegressor(criterion='mse', max_depth=1, max_features=None,\n",
       "           max_leaf_nodes=None, min_samples_leaf=1, min_samples_split=2,\n",
       "           min_weight_fraction_leaf=0.0, random_state=1234,\n",
       "           splitter='best')"
      ]
     },
     "execution_count": 92,
     "metadata": {},
     "output_type": "execute_result"
    }
   ],
   "source": [
    "# grow one regression tree with each bootstrapped training set\n",
    "treereg1 = DecisionTreeRegressor(max_depth=1,random_state=1234)\n",
    "treereg1.fit(X.iloc[sample1,:],y.iloc[sample1,0])\n",
    "\n",
    "treereg2 = DecisionTreeRegressor(max_depth=1,random_state=1234)\n",
    "treereg2.fit(X.iloc[sample2,:],y.iloc[sample2,0])\n",
    "\n",
    "treereg3 = DecisionTreeRegressor(max_depth=1,random_state=1234)\n",
    "treereg3.fit(X.iloc[sample3,:],y.iloc[sample3,0])\n",
    "\n"
   ]
  },
  {
   "cell_type": "code",
   "execution_count": 93,
   "metadata": {
    "collapsed": true
   },
   "outputs": [],
   "source": [
    "# make predictions with each bootstrapped training set\n",
    "preds1 = treereg1.predict(test[feature_cols])\n",
    "preds2 = treereg2.predict(test[feature_cols])\n",
    "preds3 = treereg3.predict(test[feature_cols])"
   ]
  },
  {
   "cell_type": "code",
   "execution_count": 98,
   "metadata": {
    "collapsed": false
   },
   "outputs": [],
   "source": [
    "y_pred = (preds1 + preds2 + preds3) / 3"
   ]
  },
  {
   "cell_type": "code",
   "execution_count": 99,
   "metadata": {
    "collapsed": false
   },
   "outputs": [],
   "source": [
    "# create submission dataframe\n",
    "submit = pd.DataFrame({'Id':test['Id'],'Sales':y_pred})"
   ]
  },
  {
   "cell_type": "code",
   "execution_count": 100,
   "metadata": {
    "collapsed": true
   },
   "outputs": [],
   "source": [
    "# create csv file\n",
    "submit.to_csv(submission_file,index=False)"
   ]
  },
  {
   "cell_type": "code",
   "execution_count": null,
   "metadata": {
    "collapsed": true
   },
   "outputs": [],
   "source": []
  }
 ],
 "metadata": {
  "kernelspec": {
   "display_name": "Python 2",
   "language": "python",
   "name": "python2"
  },
  "language_info": {
   "codemirror_mode": {
    "name": "ipython",
    "version": 2
   },
   "file_extension": ".py",
   "mimetype": "text/x-python",
   "name": "python",
   "nbconvert_exporter": "python",
   "pygments_lexer": "ipython2",
   "version": "2.7.10"
  }
 },
 "nbformat": 4,
 "nbformat_minor": 0
}
