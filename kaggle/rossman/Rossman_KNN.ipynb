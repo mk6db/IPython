{
 "cells": [
  {
   "cell_type": "code",
   "execution_count": 51,
   "metadata": {
    "collapsed": false
   },
   "outputs": [],
   "source": [
    "# read in imports\n",
    "import pandas as pd\n",
    "from sklearn.neighbors import KNeighborsClassifier\n",
    "import numpy as np"
   ]
  },
  {
   "cell_type": "code",
   "execution_count": 52,
   "metadata": {
    "collapsed": true
   },
   "outputs": [],
   "source": [
    "# set up folder link and files\n",
    "folder_link = 'C:/Users/Michael/projects/kaggle/rossman/'\n",
    "\n",
    "train_file = folder_link + 'train.csv'\n",
    "test_file = folder_link + 'test.csv'\n",
    "submission_file = folder_link + 'predictions_KNN.csv'\n",
    "store_file = folder_link + 'store.csv'"
   ]
  },
  {
   "cell_type": "code",
   "execution_count": 53,
   "metadata": {
    "collapsed": false
   },
   "outputs": [],
   "source": [
    "# set up dataframes\n",
    "train = pd.read_csv(train_file)\n",
    "test = pd.read_csv(test_file)\n",
    "store = pd.read_csv(store_file)"
   ]
  },
  {
   "cell_type": "code",
   "execution_count": 54,
   "metadata": {
    "collapsed": false
   },
   "outputs": [],
   "source": [
    "# merge train and store data\n",
    "train1 = train\n",
    "\n",
    "# change state holiday to numeric\n",
    "train1.StateHoliday = train1.StateHoliday.map({0:0,'0':1,'a':2,'b':3,'c':4})\n",
    "train1.StateHoliday = train1.StateHoliday.astype(int)"
   ]
  },
  {
   "cell_type": "code",
   "execution_count": 55,
   "metadata": {
    "collapsed": false
   },
   "outputs": [],
   "source": [
    "# create features and response\n",
    "feature_cols = ['DayOfWeek','Open','Promo','StateHoliday','SchoolHoliday']\n",
    "train2 = train1.sample(n=100000)\n",
    "X = train2[feature_cols]\n",
    "y = train2.Sales"
   ]
  },
  {
   "cell_type": "code",
   "execution_count": 60,
   "metadata": {
    "collapsed": false
   },
   "outputs": [],
   "source": [
    "test.StateHoliday = test.StateHoliday.map({0:0,'0':1,'a':2,'b':3,'c':4})\n",
    "test.StateHoliday = test.StateHoliday.astype(int)"
   ]
  },
  {
   "cell_type": "code",
   "execution_count": 57,
   "metadata": {
    "collapsed": true
   },
   "outputs": [],
   "source": [
    "#fitting a KNN model and making predictions\n",
    "test.loc[test.Open.isnull(),'Open'] = 1\n",
    "knn = KNeighborsClassifier(n_neighbors = 1)\n",
    "knn.fit(X,y)\n",
    "y_pred = knn.predict(test[feature_cols])"
   ]
  },
  {
   "cell_type": "code",
   "execution_count": 58,
   "metadata": {
    "collapsed": true
   },
   "outputs": [],
   "source": [
    "# create submission dataframe\n",
    "submit = pd.DataFrame({'Id':test['Id'],'Sales':y_pred})"
   ]
  },
  {
   "cell_type": "code",
   "execution_count": 59,
   "metadata": {
    "collapsed": true
   },
   "outputs": [],
   "source": [
    "# create csv file\n",
    "submit.to_csv(submission_file,index=False)"
   ]
  },
  {
   "cell_type": "code",
   "execution_count": null,
   "metadata": {
    "collapsed": true
   },
   "outputs": [],
   "source": []
  }
 ],
 "metadata": {
  "kernelspec": {
   "display_name": "Python 2",
   "language": "python",
   "name": "python2"
  },
  "language_info": {
   "codemirror_mode": {
    "name": "ipython",
    "version": 2
   },
   "file_extension": ".py",
   "mimetype": "text/x-python",
   "name": "python",
   "nbconvert_exporter": "python",
   "pygments_lexer": "ipython2",
   "version": "2.7.10"
  }
 },
 "nbformat": 4,
 "nbformat_minor": 0
}
